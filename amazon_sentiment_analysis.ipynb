{
  "nbformat": 4,
  "nbformat_minor": 0,
  "metadata": {
    "colab": {
      "provenance": [],
      "gpuType": "T4",
      "authorship_tag": "ABX9TyOtCks+a9AioHNZ/nGhy36f",
      "include_colab_link": true
    },
    "kernelspec": {
      "name": "python3",
      "display_name": "Python 3"
    },
    "language_info": {
      "name": "python"
    },
    "accelerator": "GPU",
    "widgets": {
      "application/vnd.jupyter.widget-state+json": {
        "fa9fd10435df494cbd3018abf816baeb": {
          "model_module": "@jupyter-widgets/controls",
          "model_name": "HBoxModel",
          "model_module_version": "1.5.0",
          "state": {
            "_dom_classes": [],
            "_model_module": "@jupyter-widgets/controls",
            "_model_module_version": "1.5.0",
            "_model_name": "HBoxModel",
            "_view_count": null,
            "_view_module": "@jupyter-widgets/controls",
            "_view_module_version": "1.5.0",
            "_view_name": "HBoxView",
            "box_style": "",
            "children": [
              "IPY_MODEL_06753eee928949d68abee335161b5f5e",
              "IPY_MODEL_6b38b7d096ee4a05b796bf9c1aae0761",
              "IPY_MODEL_4c490a77cd5f4494ba75f93a78f57bb0"
            ],
            "layout": "IPY_MODEL_2a56c3a852fb4a598e06515a1fe3b6d0"
          }
        },
        "06753eee928949d68abee335161b5f5e": {
          "model_module": "@jupyter-widgets/controls",
          "model_name": "HTMLModel",
          "model_module_version": "1.5.0",
          "state": {
            "_dom_classes": [],
            "_model_module": "@jupyter-widgets/controls",
            "_model_module_version": "1.5.0",
            "_model_name": "HTMLModel",
            "_view_count": null,
            "_view_module": "@jupyter-widgets/controls",
            "_view_module_version": "1.5.0",
            "_view_name": "HTMLView",
            "description": "",
            "description_tooltip": null,
            "layout": "IPY_MODEL_003e567ab3dc498ea8ed48499bf41c9e",
            "placeholder": "​",
            "style": "IPY_MODEL_c893456ac08e41b2b1baa8df9a47a1c0",
            "value": "config.json: 100%"
          }
        },
        "6b38b7d096ee4a05b796bf9c1aae0761": {
          "model_module": "@jupyter-widgets/controls",
          "model_name": "FloatProgressModel",
          "model_module_version": "1.5.0",
          "state": {
            "_dom_classes": [],
            "_model_module": "@jupyter-widgets/controls",
            "_model_module_version": "1.5.0",
            "_model_name": "FloatProgressModel",
            "_view_count": null,
            "_view_module": "@jupyter-widgets/controls",
            "_view_module_version": "1.5.0",
            "_view_name": "ProgressView",
            "bar_style": "success",
            "description": "",
            "description_tooltip": null,
            "layout": "IPY_MODEL_24f31de9bb9d499abd7a60b9275ced33",
            "max": 629,
            "min": 0,
            "orientation": "horizontal",
            "style": "IPY_MODEL_b3613cf3232743c4b6f15f32ab166542",
            "value": 629
          }
        },
        "4c490a77cd5f4494ba75f93a78f57bb0": {
          "model_module": "@jupyter-widgets/controls",
          "model_name": "HTMLModel",
          "model_module_version": "1.5.0",
          "state": {
            "_dom_classes": [],
            "_model_module": "@jupyter-widgets/controls",
            "_model_module_version": "1.5.0",
            "_model_name": "HTMLModel",
            "_view_count": null,
            "_view_module": "@jupyter-widgets/controls",
            "_view_module_version": "1.5.0",
            "_view_name": "HTMLView",
            "description": "",
            "description_tooltip": null,
            "layout": "IPY_MODEL_a4bc64dbf90443be8226e16ae74d6906",
            "placeholder": "​",
            "style": "IPY_MODEL_845aee96177247739da6ce0a7f1c097e",
            "value": " 629/629 [00:00&lt;00:00, 16.1kB/s]"
          }
        },
        "2a56c3a852fb4a598e06515a1fe3b6d0": {
          "model_module": "@jupyter-widgets/base",
          "model_name": "LayoutModel",
          "model_module_version": "1.2.0",
          "state": {
            "_model_module": "@jupyter-widgets/base",
            "_model_module_version": "1.2.0",
            "_model_name": "LayoutModel",
            "_view_count": null,
            "_view_module": "@jupyter-widgets/base",
            "_view_module_version": "1.2.0",
            "_view_name": "LayoutView",
            "align_content": null,
            "align_items": null,
            "align_self": null,
            "border": null,
            "bottom": null,
            "display": null,
            "flex": null,
            "flex_flow": null,
            "grid_area": null,
            "grid_auto_columns": null,
            "grid_auto_flow": null,
            "grid_auto_rows": null,
            "grid_column": null,
            "grid_gap": null,
            "grid_row": null,
            "grid_template_areas": null,
            "grid_template_columns": null,
            "grid_template_rows": null,
            "height": null,
            "justify_content": null,
            "justify_items": null,
            "left": null,
            "margin": null,
            "max_height": null,
            "max_width": null,
            "min_height": null,
            "min_width": null,
            "object_fit": null,
            "object_position": null,
            "order": null,
            "overflow": null,
            "overflow_x": null,
            "overflow_y": null,
            "padding": null,
            "right": null,
            "top": null,
            "visibility": null,
            "width": null
          }
        },
        "003e567ab3dc498ea8ed48499bf41c9e": {
          "model_module": "@jupyter-widgets/base",
          "model_name": "LayoutModel",
          "model_module_version": "1.2.0",
          "state": {
            "_model_module": "@jupyter-widgets/base",
            "_model_module_version": "1.2.0",
            "_model_name": "LayoutModel",
            "_view_count": null,
            "_view_module": "@jupyter-widgets/base",
            "_view_module_version": "1.2.0",
            "_view_name": "LayoutView",
            "align_content": null,
            "align_items": null,
            "align_self": null,
            "border": null,
            "bottom": null,
            "display": null,
            "flex": null,
            "flex_flow": null,
            "grid_area": null,
            "grid_auto_columns": null,
            "grid_auto_flow": null,
            "grid_auto_rows": null,
            "grid_column": null,
            "grid_gap": null,
            "grid_row": null,
            "grid_template_areas": null,
            "grid_template_columns": null,
            "grid_template_rows": null,
            "height": null,
            "justify_content": null,
            "justify_items": null,
            "left": null,
            "margin": null,
            "max_height": null,
            "max_width": null,
            "min_height": null,
            "min_width": null,
            "object_fit": null,
            "object_position": null,
            "order": null,
            "overflow": null,
            "overflow_x": null,
            "overflow_y": null,
            "padding": null,
            "right": null,
            "top": null,
            "visibility": null,
            "width": null
          }
        },
        "c893456ac08e41b2b1baa8df9a47a1c0": {
          "model_module": "@jupyter-widgets/controls",
          "model_name": "DescriptionStyleModel",
          "model_module_version": "1.5.0",
          "state": {
            "_model_module": "@jupyter-widgets/controls",
            "_model_module_version": "1.5.0",
            "_model_name": "DescriptionStyleModel",
            "_view_count": null,
            "_view_module": "@jupyter-widgets/base",
            "_view_module_version": "1.2.0",
            "_view_name": "StyleView",
            "description_width": ""
          }
        },
        "24f31de9bb9d499abd7a60b9275ced33": {
          "model_module": "@jupyter-widgets/base",
          "model_name": "LayoutModel",
          "model_module_version": "1.2.0",
          "state": {
            "_model_module": "@jupyter-widgets/base",
            "_model_module_version": "1.2.0",
            "_model_name": "LayoutModel",
            "_view_count": null,
            "_view_module": "@jupyter-widgets/base",
            "_view_module_version": "1.2.0",
            "_view_name": "LayoutView",
            "align_content": null,
            "align_items": null,
            "align_self": null,
            "border": null,
            "bottom": null,
            "display": null,
            "flex": null,
            "flex_flow": null,
            "grid_area": null,
            "grid_auto_columns": null,
            "grid_auto_flow": null,
            "grid_auto_rows": null,
            "grid_column": null,
            "grid_gap": null,
            "grid_row": null,
            "grid_template_areas": null,
            "grid_template_columns": null,
            "grid_template_rows": null,
            "height": null,
            "justify_content": null,
            "justify_items": null,
            "left": null,
            "margin": null,
            "max_height": null,
            "max_width": null,
            "min_height": null,
            "min_width": null,
            "object_fit": null,
            "object_position": null,
            "order": null,
            "overflow": null,
            "overflow_x": null,
            "overflow_y": null,
            "padding": null,
            "right": null,
            "top": null,
            "visibility": null,
            "width": null
          }
        },
        "b3613cf3232743c4b6f15f32ab166542": {
          "model_module": "@jupyter-widgets/controls",
          "model_name": "ProgressStyleModel",
          "model_module_version": "1.5.0",
          "state": {
            "_model_module": "@jupyter-widgets/controls",
            "_model_module_version": "1.5.0",
            "_model_name": "ProgressStyleModel",
            "_view_count": null,
            "_view_module": "@jupyter-widgets/base",
            "_view_module_version": "1.2.0",
            "_view_name": "StyleView",
            "bar_color": null,
            "description_width": ""
          }
        },
        "a4bc64dbf90443be8226e16ae74d6906": {
          "model_module": "@jupyter-widgets/base",
          "model_name": "LayoutModel",
          "model_module_version": "1.2.0",
          "state": {
            "_model_module": "@jupyter-widgets/base",
            "_model_module_version": "1.2.0",
            "_model_name": "LayoutModel",
            "_view_count": null,
            "_view_module": "@jupyter-widgets/base",
            "_view_module_version": "1.2.0",
            "_view_name": "LayoutView",
            "align_content": null,
            "align_items": null,
            "align_self": null,
            "border": null,
            "bottom": null,
            "display": null,
            "flex": null,
            "flex_flow": null,
            "grid_area": null,
            "grid_auto_columns": null,
            "grid_auto_flow": null,
            "grid_auto_rows": null,
            "grid_column": null,
            "grid_gap": null,
            "grid_row": null,
            "grid_template_areas": null,
            "grid_template_columns": null,
            "grid_template_rows": null,
            "height": null,
            "justify_content": null,
            "justify_items": null,
            "left": null,
            "margin": null,
            "max_height": null,
            "max_width": null,
            "min_height": null,
            "min_width": null,
            "object_fit": null,
            "object_position": null,
            "order": null,
            "overflow": null,
            "overflow_x": null,
            "overflow_y": null,
            "padding": null,
            "right": null,
            "top": null,
            "visibility": null,
            "width": null
          }
        },
        "845aee96177247739da6ce0a7f1c097e": {
          "model_module": "@jupyter-widgets/controls",
          "model_name": "DescriptionStyleModel",
          "model_module_version": "1.5.0",
          "state": {
            "_model_module": "@jupyter-widgets/controls",
            "_model_module_version": "1.5.0",
            "_model_name": "DescriptionStyleModel",
            "_view_count": null,
            "_view_module": "@jupyter-widgets/base",
            "_view_module_version": "1.2.0",
            "_view_name": "StyleView",
            "description_width": ""
          }
        },
        "3f7f8de5c411487bb0a5f4fba45afcd8": {
          "model_module": "@jupyter-widgets/controls",
          "model_name": "HBoxModel",
          "model_module_version": "1.5.0",
          "state": {
            "_dom_classes": [],
            "_model_module": "@jupyter-widgets/controls",
            "_model_module_version": "1.5.0",
            "_model_name": "HBoxModel",
            "_view_count": null,
            "_view_module": "@jupyter-widgets/controls",
            "_view_module_version": "1.5.0",
            "_view_name": "HBoxView",
            "box_style": "",
            "children": [
              "IPY_MODEL_ae9a78d12b3343a4864ad05cf0a05ca6",
              "IPY_MODEL_2bfb160fd51143d48bac619d40fbbfa3",
              "IPY_MODEL_ad540ed816694f7eab4ac58db1605f5f"
            ],
            "layout": "IPY_MODEL_eae843c5ec5e4f6e9e63978b00c4838b"
          }
        },
        "ae9a78d12b3343a4864ad05cf0a05ca6": {
          "model_module": "@jupyter-widgets/controls",
          "model_name": "HTMLModel",
          "model_module_version": "1.5.0",
          "state": {
            "_dom_classes": [],
            "_model_module": "@jupyter-widgets/controls",
            "_model_module_version": "1.5.0",
            "_model_name": "HTMLModel",
            "_view_count": null,
            "_view_module": "@jupyter-widgets/controls",
            "_view_module_version": "1.5.0",
            "_view_name": "HTMLView",
            "description": "",
            "description_tooltip": null,
            "layout": "IPY_MODEL_964f5690dfc8417b94f4344fd2f26d2f",
            "placeholder": "​",
            "style": "IPY_MODEL_10dee8db39734d65958eb445b9e128f5",
            "value": "model.safetensors: 100%"
          }
        },
        "2bfb160fd51143d48bac619d40fbbfa3": {
          "model_module": "@jupyter-widgets/controls",
          "model_name": "FloatProgressModel",
          "model_module_version": "1.5.0",
          "state": {
            "_dom_classes": [],
            "_model_module": "@jupyter-widgets/controls",
            "_model_module_version": "1.5.0",
            "_model_name": "FloatProgressModel",
            "_view_count": null,
            "_view_module": "@jupyter-widgets/controls",
            "_view_module_version": "1.5.0",
            "_view_name": "ProgressView",
            "bar_style": "success",
            "description": "",
            "description_tooltip": null,
            "layout": "IPY_MODEL_5e30a9d16b1345d6a8aee256269dfed1",
            "max": 267832558,
            "min": 0,
            "orientation": "horizontal",
            "style": "IPY_MODEL_ab362d6970584f229a2b3f905030b375",
            "value": 267832558
          }
        },
        "ad540ed816694f7eab4ac58db1605f5f": {
          "model_module": "@jupyter-widgets/controls",
          "model_name": "HTMLModel",
          "model_module_version": "1.5.0",
          "state": {
            "_dom_classes": [],
            "_model_module": "@jupyter-widgets/controls",
            "_model_module_version": "1.5.0",
            "_model_name": "HTMLModel",
            "_view_count": null,
            "_view_module": "@jupyter-widgets/controls",
            "_view_module_version": "1.5.0",
            "_view_name": "HTMLView",
            "description": "",
            "description_tooltip": null,
            "layout": "IPY_MODEL_f65c8961abef4bffb2845d2bd681f7d1",
            "placeholder": "​",
            "style": "IPY_MODEL_cd9d84ff9aa54c91bee0d3bdfd87a3d5",
            "value": " 268M/268M [00:02&lt;00:00, 167MB/s]"
          }
        },
        "eae843c5ec5e4f6e9e63978b00c4838b": {
          "model_module": "@jupyter-widgets/base",
          "model_name": "LayoutModel",
          "model_module_version": "1.2.0",
          "state": {
            "_model_module": "@jupyter-widgets/base",
            "_model_module_version": "1.2.0",
            "_model_name": "LayoutModel",
            "_view_count": null,
            "_view_module": "@jupyter-widgets/base",
            "_view_module_version": "1.2.0",
            "_view_name": "LayoutView",
            "align_content": null,
            "align_items": null,
            "align_self": null,
            "border": null,
            "bottom": null,
            "display": null,
            "flex": null,
            "flex_flow": null,
            "grid_area": null,
            "grid_auto_columns": null,
            "grid_auto_flow": null,
            "grid_auto_rows": null,
            "grid_column": null,
            "grid_gap": null,
            "grid_row": null,
            "grid_template_areas": null,
            "grid_template_columns": null,
            "grid_template_rows": null,
            "height": null,
            "justify_content": null,
            "justify_items": null,
            "left": null,
            "margin": null,
            "max_height": null,
            "max_width": null,
            "min_height": null,
            "min_width": null,
            "object_fit": null,
            "object_position": null,
            "order": null,
            "overflow": null,
            "overflow_x": null,
            "overflow_y": null,
            "padding": null,
            "right": null,
            "top": null,
            "visibility": null,
            "width": null
          }
        },
        "964f5690dfc8417b94f4344fd2f26d2f": {
          "model_module": "@jupyter-widgets/base",
          "model_name": "LayoutModel",
          "model_module_version": "1.2.0",
          "state": {
            "_model_module": "@jupyter-widgets/base",
            "_model_module_version": "1.2.0",
            "_model_name": "LayoutModel",
            "_view_count": null,
            "_view_module": "@jupyter-widgets/base",
            "_view_module_version": "1.2.0",
            "_view_name": "LayoutView",
            "align_content": null,
            "align_items": null,
            "align_self": null,
            "border": null,
            "bottom": null,
            "display": null,
            "flex": null,
            "flex_flow": null,
            "grid_area": null,
            "grid_auto_columns": null,
            "grid_auto_flow": null,
            "grid_auto_rows": null,
            "grid_column": null,
            "grid_gap": null,
            "grid_row": null,
            "grid_template_areas": null,
            "grid_template_columns": null,
            "grid_template_rows": null,
            "height": null,
            "justify_content": null,
            "justify_items": null,
            "left": null,
            "margin": null,
            "max_height": null,
            "max_width": null,
            "min_height": null,
            "min_width": null,
            "object_fit": null,
            "object_position": null,
            "order": null,
            "overflow": null,
            "overflow_x": null,
            "overflow_y": null,
            "padding": null,
            "right": null,
            "top": null,
            "visibility": null,
            "width": null
          }
        },
        "10dee8db39734d65958eb445b9e128f5": {
          "model_module": "@jupyter-widgets/controls",
          "model_name": "DescriptionStyleModel",
          "model_module_version": "1.5.0",
          "state": {
            "_model_module": "@jupyter-widgets/controls",
            "_model_module_version": "1.5.0",
            "_model_name": "DescriptionStyleModel",
            "_view_count": null,
            "_view_module": "@jupyter-widgets/base",
            "_view_module_version": "1.2.0",
            "_view_name": "StyleView",
            "description_width": ""
          }
        },
        "5e30a9d16b1345d6a8aee256269dfed1": {
          "model_module": "@jupyter-widgets/base",
          "model_name": "LayoutModel",
          "model_module_version": "1.2.0",
          "state": {
            "_model_module": "@jupyter-widgets/base",
            "_model_module_version": "1.2.0",
            "_model_name": "LayoutModel",
            "_view_count": null,
            "_view_module": "@jupyter-widgets/base",
            "_view_module_version": "1.2.0",
            "_view_name": "LayoutView",
            "align_content": null,
            "align_items": null,
            "align_self": null,
            "border": null,
            "bottom": null,
            "display": null,
            "flex": null,
            "flex_flow": null,
            "grid_area": null,
            "grid_auto_columns": null,
            "grid_auto_flow": null,
            "grid_auto_rows": null,
            "grid_column": null,
            "grid_gap": null,
            "grid_row": null,
            "grid_template_areas": null,
            "grid_template_columns": null,
            "grid_template_rows": null,
            "height": null,
            "justify_content": null,
            "justify_items": null,
            "left": null,
            "margin": null,
            "max_height": null,
            "max_width": null,
            "min_height": null,
            "min_width": null,
            "object_fit": null,
            "object_position": null,
            "order": null,
            "overflow": null,
            "overflow_x": null,
            "overflow_y": null,
            "padding": null,
            "right": null,
            "top": null,
            "visibility": null,
            "width": null
          }
        },
        "ab362d6970584f229a2b3f905030b375": {
          "model_module": "@jupyter-widgets/controls",
          "model_name": "ProgressStyleModel",
          "model_module_version": "1.5.0",
          "state": {
            "_model_module": "@jupyter-widgets/controls",
            "_model_module_version": "1.5.0",
            "_model_name": "ProgressStyleModel",
            "_view_count": null,
            "_view_module": "@jupyter-widgets/base",
            "_view_module_version": "1.2.0",
            "_view_name": "StyleView",
            "bar_color": null,
            "description_width": ""
          }
        },
        "f65c8961abef4bffb2845d2bd681f7d1": {
          "model_module": "@jupyter-widgets/base",
          "model_name": "LayoutModel",
          "model_module_version": "1.2.0",
          "state": {
            "_model_module": "@jupyter-widgets/base",
            "_model_module_version": "1.2.0",
            "_model_name": "LayoutModel",
            "_view_count": null,
            "_view_module": "@jupyter-widgets/base",
            "_view_module_version": "1.2.0",
            "_view_name": "LayoutView",
            "align_content": null,
            "align_items": null,
            "align_self": null,
            "border": null,
            "bottom": null,
            "display": null,
            "flex": null,
            "flex_flow": null,
            "grid_area": null,
            "grid_auto_columns": null,
            "grid_auto_flow": null,
            "grid_auto_rows": null,
            "grid_column": null,
            "grid_gap": null,
            "grid_row": null,
            "grid_template_areas": null,
            "grid_template_columns": null,
            "grid_template_rows": null,
            "height": null,
            "justify_content": null,
            "justify_items": null,
            "left": null,
            "margin": null,
            "max_height": null,
            "max_width": null,
            "min_height": null,
            "min_width": null,
            "object_fit": null,
            "object_position": null,
            "order": null,
            "overflow": null,
            "overflow_x": null,
            "overflow_y": null,
            "padding": null,
            "right": null,
            "top": null,
            "visibility": null,
            "width": null
          }
        },
        "cd9d84ff9aa54c91bee0d3bdfd87a3d5": {
          "model_module": "@jupyter-widgets/controls",
          "model_name": "DescriptionStyleModel",
          "model_module_version": "1.5.0",
          "state": {
            "_model_module": "@jupyter-widgets/controls",
            "_model_module_version": "1.5.0",
            "_model_name": "DescriptionStyleModel",
            "_view_count": null,
            "_view_module": "@jupyter-widgets/base",
            "_view_module_version": "1.2.0",
            "_view_name": "StyleView",
            "description_width": ""
          }
        },
        "540d51e7e4374e00bc5c93147b5fd1d0": {
          "model_module": "@jupyter-widgets/controls",
          "model_name": "HBoxModel",
          "model_module_version": "1.5.0",
          "state": {
            "_dom_classes": [],
            "_model_module": "@jupyter-widgets/controls",
            "_model_module_version": "1.5.0",
            "_model_name": "HBoxModel",
            "_view_count": null,
            "_view_module": "@jupyter-widgets/controls",
            "_view_module_version": "1.5.0",
            "_view_name": "HBoxView",
            "box_style": "",
            "children": [
              "IPY_MODEL_12e94c538b3c4dc488ff4fdf9934f911",
              "IPY_MODEL_ce5b17ea2873442a985b974d2ec1ee83",
              "IPY_MODEL_98b35578b0784fb39f3f564509bf692b"
            ],
            "layout": "IPY_MODEL_689e4b509252470a9615c0dcb45757be"
          }
        },
        "12e94c538b3c4dc488ff4fdf9934f911": {
          "model_module": "@jupyter-widgets/controls",
          "model_name": "HTMLModel",
          "model_module_version": "1.5.0",
          "state": {
            "_dom_classes": [],
            "_model_module": "@jupyter-widgets/controls",
            "_model_module_version": "1.5.0",
            "_model_name": "HTMLModel",
            "_view_count": null,
            "_view_module": "@jupyter-widgets/controls",
            "_view_module_version": "1.5.0",
            "_view_name": "HTMLView",
            "description": "",
            "description_tooltip": null,
            "layout": "IPY_MODEL_a6f5cb6269ed4ceea6cd9096845e67fc",
            "placeholder": "​",
            "style": "IPY_MODEL_74b1cc18ecc245f1873444a8002e3016",
            "value": "tokenizer_config.json: 100%"
          }
        },
        "ce5b17ea2873442a985b974d2ec1ee83": {
          "model_module": "@jupyter-widgets/controls",
          "model_name": "FloatProgressModel",
          "model_module_version": "1.5.0",
          "state": {
            "_dom_classes": [],
            "_model_module": "@jupyter-widgets/controls",
            "_model_module_version": "1.5.0",
            "_model_name": "FloatProgressModel",
            "_view_count": null,
            "_view_module": "@jupyter-widgets/controls",
            "_view_module_version": "1.5.0",
            "_view_name": "ProgressView",
            "bar_style": "success",
            "description": "",
            "description_tooltip": null,
            "layout": "IPY_MODEL_6b62379ada544ac49866e279d4016b8d",
            "max": 48,
            "min": 0,
            "orientation": "horizontal",
            "style": "IPY_MODEL_64d328ca1073425baabcf0718909c98f",
            "value": 48
          }
        },
        "98b35578b0784fb39f3f564509bf692b": {
          "model_module": "@jupyter-widgets/controls",
          "model_name": "HTMLModel",
          "model_module_version": "1.5.0",
          "state": {
            "_dom_classes": [],
            "_model_module": "@jupyter-widgets/controls",
            "_model_module_version": "1.5.0",
            "_model_name": "HTMLModel",
            "_view_count": null,
            "_view_module": "@jupyter-widgets/controls",
            "_view_module_version": "1.5.0",
            "_view_name": "HTMLView",
            "description": "",
            "description_tooltip": null,
            "layout": "IPY_MODEL_e883ebd26bce409e8758c51e64257a0d",
            "placeholder": "​",
            "style": "IPY_MODEL_fc33f98f81da4e9f8e5a50ae59039396",
            "value": " 48.0/48.0 [00:00&lt;00:00, 2.73kB/s]"
          }
        },
        "689e4b509252470a9615c0dcb45757be": {
          "model_module": "@jupyter-widgets/base",
          "model_name": "LayoutModel",
          "model_module_version": "1.2.0",
          "state": {
            "_model_module": "@jupyter-widgets/base",
            "_model_module_version": "1.2.0",
            "_model_name": "LayoutModel",
            "_view_count": null,
            "_view_module": "@jupyter-widgets/base",
            "_view_module_version": "1.2.0",
            "_view_name": "LayoutView",
            "align_content": null,
            "align_items": null,
            "align_self": null,
            "border": null,
            "bottom": null,
            "display": null,
            "flex": null,
            "flex_flow": null,
            "grid_area": null,
            "grid_auto_columns": null,
            "grid_auto_flow": null,
            "grid_auto_rows": null,
            "grid_column": null,
            "grid_gap": null,
            "grid_row": null,
            "grid_template_areas": null,
            "grid_template_columns": null,
            "grid_template_rows": null,
            "height": null,
            "justify_content": null,
            "justify_items": null,
            "left": null,
            "margin": null,
            "max_height": null,
            "max_width": null,
            "min_height": null,
            "min_width": null,
            "object_fit": null,
            "object_position": null,
            "order": null,
            "overflow": null,
            "overflow_x": null,
            "overflow_y": null,
            "padding": null,
            "right": null,
            "top": null,
            "visibility": null,
            "width": null
          }
        },
        "a6f5cb6269ed4ceea6cd9096845e67fc": {
          "model_module": "@jupyter-widgets/base",
          "model_name": "LayoutModel",
          "model_module_version": "1.2.0",
          "state": {
            "_model_module": "@jupyter-widgets/base",
            "_model_module_version": "1.2.0",
            "_model_name": "LayoutModel",
            "_view_count": null,
            "_view_module": "@jupyter-widgets/base",
            "_view_module_version": "1.2.0",
            "_view_name": "LayoutView",
            "align_content": null,
            "align_items": null,
            "align_self": null,
            "border": null,
            "bottom": null,
            "display": null,
            "flex": null,
            "flex_flow": null,
            "grid_area": null,
            "grid_auto_columns": null,
            "grid_auto_flow": null,
            "grid_auto_rows": null,
            "grid_column": null,
            "grid_gap": null,
            "grid_row": null,
            "grid_template_areas": null,
            "grid_template_columns": null,
            "grid_template_rows": null,
            "height": null,
            "justify_content": null,
            "justify_items": null,
            "left": null,
            "margin": null,
            "max_height": null,
            "max_width": null,
            "min_height": null,
            "min_width": null,
            "object_fit": null,
            "object_position": null,
            "order": null,
            "overflow": null,
            "overflow_x": null,
            "overflow_y": null,
            "padding": null,
            "right": null,
            "top": null,
            "visibility": null,
            "width": null
          }
        },
        "74b1cc18ecc245f1873444a8002e3016": {
          "model_module": "@jupyter-widgets/controls",
          "model_name": "DescriptionStyleModel",
          "model_module_version": "1.5.0",
          "state": {
            "_model_module": "@jupyter-widgets/controls",
            "_model_module_version": "1.5.0",
            "_model_name": "DescriptionStyleModel",
            "_view_count": null,
            "_view_module": "@jupyter-widgets/base",
            "_view_module_version": "1.2.0",
            "_view_name": "StyleView",
            "description_width": ""
          }
        },
        "6b62379ada544ac49866e279d4016b8d": {
          "model_module": "@jupyter-widgets/base",
          "model_name": "LayoutModel",
          "model_module_version": "1.2.0",
          "state": {
            "_model_module": "@jupyter-widgets/base",
            "_model_module_version": "1.2.0",
            "_model_name": "LayoutModel",
            "_view_count": null,
            "_view_module": "@jupyter-widgets/base",
            "_view_module_version": "1.2.0",
            "_view_name": "LayoutView",
            "align_content": null,
            "align_items": null,
            "align_self": null,
            "border": null,
            "bottom": null,
            "display": null,
            "flex": null,
            "flex_flow": null,
            "grid_area": null,
            "grid_auto_columns": null,
            "grid_auto_flow": null,
            "grid_auto_rows": null,
            "grid_column": null,
            "grid_gap": null,
            "grid_row": null,
            "grid_template_areas": null,
            "grid_template_columns": null,
            "grid_template_rows": null,
            "height": null,
            "justify_content": null,
            "justify_items": null,
            "left": null,
            "margin": null,
            "max_height": null,
            "max_width": null,
            "min_height": null,
            "min_width": null,
            "object_fit": null,
            "object_position": null,
            "order": null,
            "overflow": null,
            "overflow_x": null,
            "overflow_y": null,
            "padding": null,
            "right": null,
            "top": null,
            "visibility": null,
            "width": null
          }
        },
        "64d328ca1073425baabcf0718909c98f": {
          "model_module": "@jupyter-widgets/controls",
          "model_name": "ProgressStyleModel",
          "model_module_version": "1.5.0",
          "state": {
            "_model_module": "@jupyter-widgets/controls",
            "_model_module_version": "1.5.0",
            "_model_name": "ProgressStyleModel",
            "_view_count": null,
            "_view_module": "@jupyter-widgets/base",
            "_view_module_version": "1.2.0",
            "_view_name": "StyleView",
            "bar_color": null,
            "description_width": ""
          }
        },
        "e883ebd26bce409e8758c51e64257a0d": {
          "model_module": "@jupyter-widgets/base",
          "model_name": "LayoutModel",
          "model_module_version": "1.2.0",
          "state": {
            "_model_module": "@jupyter-widgets/base",
            "_model_module_version": "1.2.0",
            "_model_name": "LayoutModel",
            "_view_count": null,
            "_view_module": "@jupyter-widgets/base",
            "_view_module_version": "1.2.0",
            "_view_name": "LayoutView",
            "align_content": null,
            "align_items": null,
            "align_self": null,
            "border": null,
            "bottom": null,
            "display": null,
            "flex": null,
            "flex_flow": null,
            "grid_area": null,
            "grid_auto_columns": null,
            "grid_auto_flow": null,
            "grid_auto_rows": null,
            "grid_column": null,
            "grid_gap": null,
            "grid_row": null,
            "grid_template_areas": null,
            "grid_template_columns": null,
            "grid_template_rows": null,
            "height": null,
            "justify_content": null,
            "justify_items": null,
            "left": null,
            "margin": null,
            "max_height": null,
            "max_width": null,
            "min_height": null,
            "min_width": null,
            "object_fit": null,
            "object_position": null,
            "order": null,
            "overflow": null,
            "overflow_x": null,
            "overflow_y": null,
            "padding": null,
            "right": null,
            "top": null,
            "visibility": null,
            "width": null
          }
        },
        "fc33f98f81da4e9f8e5a50ae59039396": {
          "model_module": "@jupyter-widgets/controls",
          "model_name": "DescriptionStyleModel",
          "model_module_version": "1.5.0",
          "state": {
            "_model_module": "@jupyter-widgets/controls",
            "_model_module_version": "1.5.0",
            "_model_name": "DescriptionStyleModel",
            "_view_count": null,
            "_view_module": "@jupyter-widgets/base",
            "_view_module_version": "1.2.0",
            "_view_name": "StyleView",
            "description_width": ""
          }
        },
        "ca0a205f5aba4beb8934a9ebdaaefc53": {
          "model_module": "@jupyter-widgets/controls",
          "model_name": "HBoxModel",
          "model_module_version": "1.5.0",
          "state": {
            "_dom_classes": [],
            "_model_module": "@jupyter-widgets/controls",
            "_model_module_version": "1.5.0",
            "_model_name": "HBoxModel",
            "_view_count": null,
            "_view_module": "@jupyter-widgets/controls",
            "_view_module_version": "1.5.0",
            "_view_name": "HBoxView",
            "box_style": "",
            "children": [
              "IPY_MODEL_465aef376ae54f659544e3f8f10b1e5b",
              "IPY_MODEL_7e067bc22176480ebda1b6962bbc0628",
              "IPY_MODEL_f332225c29d74a059e6e77b6ca935bf7"
            ],
            "layout": "IPY_MODEL_03dc13c58f054c0fa5d00019edcd4d5d"
          }
        },
        "465aef376ae54f659544e3f8f10b1e5b": {
          "model_module": "@jupyter-widgets/controls",
          "model_name": "HTMLModel",
          "model_module_version": "1.5.0",
          "state": {
            "_dom_classes": [],
            "_model_module": "@jupyter-widgets/controls",
            "_model_module_version": "1.5.0",
            "_model_name": "HTMLModel",
            "_view_count": null,
            "_view_module": "@jupyter-widgets/controls",
            "_view_module_version": "1.5.0",
            "_view_name": "HTMLView",
            "description": "",
            "description_tooltip": null,
            "layout": "IPY_MODEL_cbfd5a2144be429495d71fb6641aa8f9",
            "placeholder": "​",
            "style": "IPY_MODEL_090cbba12c9d44688d2defc8f7c0e9dc",
            "value": "vocab.txt: 100%"
          }
        },
        "7e067bc22176480ebda1b6962bbc0628": {
          "model_module": "@jupyter-widgets/controls",
          "model_name": "FloatProgressModel",
          "model_module_version": "1.5.0",
          "state": {
            "_dom_classes": [],
            "_model_module": "@jupyter-widgets/controls",
            "_model_module_version": "1.5.0",
            "_model_name": "FloatProgressModel",
            "_view_count": null,
            "_view_module": "@jupyter-widgets/controls",
            "_view_module_version": "1.5.0",
            "_view_name": "ProgressView",
            "bar_style": "success",
            "description": "",
            "description_tooltip": null,
            "layout": "IPY_MODEL_d753c93eda8a43578c6517bbaa66686c",
            "max": 231508,
            "min": 0,
            "orientation": "horizontal",
            "style": "IPY_MODEL_a5299b7ffcfc4cbea7da8cca58dd8568",
            "value": 231508
          }
        },
        "f332225c29d74a059e6e77b6ca935bf7": {
          "model_module": "@jupyter-widgets/controls",
          "model_name": "HTMLModel",
          "model_module_version": "1.5.0",
          "state": {
            "_dom_classes": [],
            "_model_module": "@jupyter-widgets/controls",
            "_model_module_version": "1.5.0",
            "_model_name": "HTMLModel",
            "_view_count": null,
            "_view_module": "@jupyter-widgets/controls",
            "_view_module_version": "1.5.0",
            "_view_name": "HTMLView",
            "description": "",
            "description_tooltip": null,
            "layout": "IPY_MODEL_7a1a61b0e4fb49479bbc7176d1cb99d8",
            "placeholder": "​",
            "style": "IPY_MODEL_6fa012d5122b4f32aa54776f9e11c1e5",
            "value": " 232k/232k [00:00&lt;00:00, 526kB/s]"
          }
        },
        "03dc13c58f054c0fa5d00019edcd4d5d": {
          "model_module": "@jupyter-widgets/base",
          "model_name": "LayoutModel",
          "model_module_version": "1.2.0",
          "state": {
            "_model_module": "@jupyter-widgets/base",
            "_model_module_version": "1.2.0",
            "_model_name": "LayoutModel",
            "_view_count": null,
            "_view_module": "@jupyter-widgets/base",
            "_view_module_version": "1.2.0",
            "_view_name": "LayoutView",
            "align_content": null,
            "align_items": null,
            "align_self": null,
            "border": null,
            "bottom": null,
            "display": null,
            "flex": null,
            "flex_flow": null,
            "grid_area": null,
            "grid_auto_columns": null,
            "grid_auto_flow": null,
            "grid_auto_rows": null,
            "grid_column": null,
            "grid_gap": null,
            "grid_row": null,
            "grid_template_areas": null,
            "grid_template_columns": null,
            "grid_template_rows": null,
            "height": null,
            "justify_content": null,
            "justify_items": null,
            "left": null,
            "margin": null,
            "max_height": null,
            "max_width": null,
            "min_height": null,
            "min_width": null,
            "object_fit": null,
            "object_position": null,
            "order": null,
            "overflow": null,
            "overflow_x": null,
            "overflow_y": null,
            "padding": null,
            "right": null,
            "top": null,
            "visibility": null,
            "width": null
          }
        },
        "cbfd5a2144be429495d71fb6641aa8f9": {
          "model_module": "@jupyter-widgets/base",
          "model_name": "LayoutModel",
          "model_module_version": "1.2.0",
          "state": {
            "_model_module": "@jupyter-widgets/base",
            "_model_module_version": "1.2.0",
            "_model_name": "LayoutModel",
            "_view_count": null,
            "_view_module": "@jupyter-widgets/base",
            "_view_module_version": "1.2.0",
            "_view_name": "LayoutView",
            "align_content": null,
            "align_items": null,
            "align_self": null,
            "border": null,
            "bottom": null,
            "display": null,
            "flex": null,
            "flex_flow": null,
            "grid_area": null,
            "grid_auto_columns": null,
            "grid_auto_flow": null,
            "grid_auto_rows": null,
            "grid_column": null,
            "grid_gap": null,
            "grid_row": null,
            "grid_template_areas": null,
            "grid_template_columns": null,
            "grid_template_rows": null,
            "height": null,
            "justify_content": null,
            "justify_items": null,
            "left": null,
            "margin": null,
            "max_height": null,
            "max_width": null,
            "min_height": null,
            "min_width": null,
            "object_fit": null,
            "object_position": null,
            "order": null,
            "overflow": null,
            "overflow_x": null,
            "overflow_y": null,
            "padding": null,
            "right": null,
            "top": null,
            "visibility": null,
            "width": null
          }
        },
        "090cbba12c9d44688d2defc8f7c0e9dc": {
          "model_module": "@jupyter-widgets/controls",
          "model_name": "DescriptionStyleModel",
          "model_module_version": "1.5.0",
          "state": {
            "_model_module": "@jupyter-widgets/controls",
            "_model_module_version": "1.5.0",
            "_model_name": "DescriptionStyleModel",
            "_view_count": null,
            "_view_module": "@jupyter-widgets/base",
            "_view_module_version": "1.2.0",
            "_view_name": "StyleView",
            "description_width": ""
          }
        },
        "d753c93eda8a43578c6517bbaa66686c": {
          "model_module": "@jupyter-widgets/base",
          "model_name": "LayoutModel",
          "model_module_version": "1.2.0",
          "state": {
            "_model_module": "@jupyter-widgets/base",
            "_model_module_version": "1.2.0",
            "_model_name": "LayoutModel",
            "_view_count": null,
            "_view_module": "@jupyter-widgets/base",
            "_view_module_version": "1.2.0",
            "_view_name": "LayoutView",
            "align_content": null,
            "align_items": null,
            "align_self": null,
            "border": null,
            "bottom": null,
            "display": null,
            "flex": null,
            "flex_flow": null,
            "grid_area": null,
            "grid_auto_columns": null,
            "grid_auto_flow": null,
            "grid_auto_rows": null,
            "grid_column": null,
            "grid_gap": null,
            "grid_row": null,
            "grid_template_areas": null,
            "grid_template_columns": null,
            "grid_template_rows": null,
            "height": null,
            "justify_content": null,
            "justify_items": null,
            "left": null,
            "margin": null,
            "max_height": null,
            "max_width": null,
            "min_height": null,
            "min_width": null,
            "object_fit": null,
            "object_position": null,
            "order": null,
            "overflow": null,
            "overflow_x": null,
            "overflow_y": null,
            "padding": null,
            "right": null,
            "top": null,
            "visibility": null,
            "width": null
          }
        },
        "a5299b7ffcfc4cbea7da8cca58dd8568": {
          "model_module": "@jupyter-widgets/controls",
          "model_name": "ProgressStyleModel",
          "model_module_version": "1.5.0",
          "state": {
            "_model_module": "@jupyter-widgets/controls",
            "_model_module_version": "1.5.0",
            "_model_name": "ProgressStyleModel",
            "_view_count": null,
            "_view_module": "@jupyter-widgets/base",
            "_view_module_version": "1.2.0",
            "_view_name": "StyleView",
            "bar_color": null,
            "description_width": ""
          }
        },
        "7a1a61b0e4fb49479bbc7176d1cb99d8": {
          "model_module": "@jupyter-widgets/base",
          "model_name": "LayoutModel",
          "model_module_version": "1.2.0",
          "state": {
            "_model_module": "@jupyter-widgets/base",
            "_model_module_version": "1.2.0",
            "_model_name": "LayoutModel",
            "_view_count": null,
            "_view_module": "@jupyter-widgets/base",
            "_view_module_version": "1.2.0",
            "_view_name": "LayoutView",
            "align_content": null,
            "align_items": null,
            "align_self": null,
            "border": null,
            "bottom": null,
            "display": null,
            "flex": null,
            "flex_flow": null,
            "grid_area": null,
            "grid_auto_columns": null,
            "grid_auto_flow": null,
            "grid_auto_rows": null,
            "grid_column": null,
            "grid_gap": null,
            "grid_row": null,
            "grid_template_areas": null,
            "grid_template_columns": null,
            "grid_template_rows": null,
            "height": null,
            "justify_content": null,
            "justify_items": null,
            "left": null,
            "margin": null,
            "max_height": null,
            "max_width": null,
            "min_height": null,
            "min_width": null,
            "object_fit": null,
            "object_position": null,
            "order": null,
            "overflow": null,
            "overflow_x": null,
            "overflow_y": null,
            "padding": null,
            "right": null,
            "top": null,
            "visibility": null,
            "width": null
          }
        },
        "6fa012d5122b4f32aa54776f9e11c1e5": {
          "model_module": "@jupyter-widgets/controls",
          "model_name": "DescriptionStyleModel",
          "model_module_version": "1.5.0",
          "state": {
            "_model_module": "@jupyter-widgets/controls",
            "_model_module_version": "1.5.0",
            "_model_name": "DescriptionStyleModel",
            "_view_count": null,
            "_view_module": "@jupyter-widgets/base",
            "_view_module_version": "1.2.0",
            "_view_name": "StyleView",
            "description_width": ""
          }
        }
      }
    }
  },
  "cells": [
    {
      "cell_type": "markdown",
      "metadata": {
        "id": "view-in-github",
        "colab_type": "text"
      },
      "source": [
        "<a href=\"https://colab.research.google.com/github/alexhosp/amazon-sentiment-analysis/blob/main/amazon_sentiment_analysis.ipynb\" target=\"_parent\"><img src=\"https://colab.research.google.com/assets/colab-badge.svg\" alt=\"Open In Colab\"/></a>"
      ]
    },
    {
      "cell_type": "markdown",
      "source": [
        "# Objective\n",
        "The client aims to understand the overall sentiment expressed in customer reviess to better understand how their products are preceived in the market.\n",
        "\n",
        "## Main Question\n",
        "Can you tell me whether most of my reviews are positive or negative?\n",
        "\n",
        "## Input Data\n",
        "* A subset of Amazon product review data, with ratings and reviews. * Focus on one product category.\n",
        "* Work with a subset of a maximum of 5,000 reviews.\n",
        "\n",
        "### Data Features\n",
        "* The dataset includes 4915 entries.\n",
        "* The dataset has 10 columns, of which two are of interest for sentiment analysis:\n",
        "  1. `reviewText`: Text of the customer review. This serves as the input for the pre-trained model.\n",
        "  2. `overall`: Rating score from 1 to 5. These scores could be used to derive labels for model training purposes."
      ],
      "metadata": {
        "id": "tXKvUe1oS23L"
      }
    },
    {
      "cell_type": "markdown",
      "source": [
        "## Tasks:\n",
        "1. Preprocess data and prepare it for use with the DistilBERT model.\n",
        "2. Perform EDA and explore distribution of reviews (1 -5).\n",
        "3. Use the pre-trained DistilBERT from HuggingFace through Pytorch to predict sentiment for all entries of the dataset.\n",
        "4. Analyze the results and calculate overall sentiment.\n",
        "5. Sum up the findings in a concise and clear report.\n",
        "6. Complete the project in an optimimum of less than 14 hours and a maximum of 33.5 hours. The only deliverable is a report."
      ],
      "metadata": {
        "id": "UJQJIuq-TkZB"
      }
    },
    {
      "cell_type": "markdown",
      "source": [
        "### 1. Environment Setup\n",
        "* Install and import necessary libraries.\n",
        "* Upload the dataset."
      ],
      "metadata": {
        "id": "kGj1--EvVIWj"
      }
    },
    {
      "cell_type": "code",
      "source": [
        "# Import libraries for preprocessing  and prediction\n",
        "import pandas as pd\n",
        "import numpy as np\n",
        "import torch"
      ],
      "metadata": {
        "id": "8U1TE2w8VpX7"
      },
      "execution_count": null,
      "outputs": []
    },
    {
      "cell_type": "code",
      "source": [
        "# Install Kaggle to upload the public dataset\n",
        "%pip install -qU kaggle"
      ],
      "metadata": {
        "id": "7ewG4lIcV1cu"
      },
      "execution_count": null,
      "outputs": []
    },
    {
      "cell_type": "code",
      "source": [
        "# Create a directory to store kaggle.json\n",
        "%mkdir ~/.config/kaggle"
      ],
      "metadata": {
        "id": "evWmLL65Y3sb",
        "colab": {
          "base_uri": "https://localhost:8080/"
        },
        "outputId": "1e66ca51-2a1c-4de2-9a32-b7a70ab6c486"
      },
      "execution_count": null,
      "outputs": [
        {
          "output_type": "stream",
          "name": "stdout",
          "text": [
            "mkdir: cannot create directory ‘/root/.config/kaggle’: File exists\n"
          ]
        }
      ]
    },
    {
      "cell_type": "code",
      "source": [
        "# Copy the file into that directory\n",
        "%cp kaggle.json ~/.config/kaggle/"
      ],
      "metadata": {
        "id": "9cEGrg4lY_eX"
      },
      "execution_count": null,
      "outputs": []
    },
    {
      "cell_type": "code",
      "source": [
        "%ls ~/.config/kaggle"
      ],
      "metadata": {
        "colab": {
          "base_uri": "https://localhost:8080/"
        },
        "id": "942cyC_uZLcJ",
        "outputId": "1a7c690a-3146-4517-d8bc-42ab763f74ab"
      },
      "execution_count": null,
      "outputs": [
        {
          "output_type": "stream",
          "name": "stdout",
          "text": [
            "kaggle.json\n"
          ]
        }
      ]
    },
    {
      "cell_type": "code",
      "source": [
        "# Import Kaggle\n",
        "import kaggle"
      ],
      "metadata": {
        "id": "DvDiOZuyYqAs"
      },
      "execution_count": null,
      "outputs": []
    },
    {
      "cell_type": "code",
      "source": [
        "# Import libraries for EDA\n",
        "import matplotlib.pyplot as plt\n",
        "from matplotlib.ticker import FuncFormatter\n",
        "import seaborn as sns"
      ],
      "metadata": {
        "id": "eWDqBLJaYEeM"
      },
      "execution_count": null,
      "outputs": []
    },
    {
      "cell_type": "code",
      "source": [
        "# Install necessary libraries for prediction\n",
        "%pip install -qU transformers tqdm boto3 requests regex sentencepiece sacremoses"
      ],
      "metadata": {
        "id": "W4XI31eIXTz1",
        "colab": {
          "base_uri": "https://localhost:8080/"
        },
        "outputId": "7cb92fe4-2a59-4623-c83b-8de24861132e"
      },
      "execution_count": null,
      "outputs": [
        {
          "output_type": "stream",
          "name": "stdout",
          "text": [
            "\u001b[2K     \u001b[90m━━━━━━━━━━━━━━━━━━━━━━━━━━━━━━━━━━━━━━━━\u001b[0m \u001b[32m44.1/44.1 kB\u001b[0m \u001b[31m1.8 MB/s\u001b[0m eta \u001b[36m0:00:00\u001b[0m\n",
            "\u001b[2K     \u001b[90m━━━━━━━━━━━━━━━━━━━━━━━━━━━━━━━━━━━━━━━━\u001b[0m \u001b[32m57.6/57.6 kB\u001b[0m \u001b[31m4.9 MB/s\u001b[0m eta \u001b[36m0:00:00\u001b[0m\n",
            "\u001b[2K     \u001b[90m━━━━━━━━━━━━━━━━━━━━━━━━━━━━━━━━━━━━━━━━\u001b[0m \u001b[32m40.5/40.5 kB\u001b[0m \u001b[31m3.1 MB/s\u001b[0m eta \u001b[36m0:00:00\u001b[0m\n",
            "\u001b[2K   \u001b[90m━━━━━━━━━━━━━━━━━━━━━━━━━━━━━━━━━━━━━━━━\u001b[0m \u001b[32m10.0/10.0 MB\u001b[0m \u001b[31m118.8 MB/s\u001b[0m eta \u001b[36m0:00:00\u001b[0m\n",
            "\u001b[2K   \u001b[90m━━━━━━━━━━━━━━━━━━━━━━━━━━━━━━━━━━━━━━━━\u001b[0m \u001b[32m78.6/78.6 kB\u001b[0m \u001b[31m7.2 MB/s\u001b[0m eta \u001b[36m0:00:00\u001b[0m\n",
            "\u001b[2K   \u001b[90m━━━━━━━━━━━━━━━━━━━━━━━━━━━━━━━━━━━━━━━━\u001b[0m \u001b[32m139.2/139.2 kB\u001b[0m \u001b[31m12.4 MB/s\u001b[0m eta \u001b[36m0:00:00\u001b[0m\n",
            "\u001b[2K   \u001b[90m━━━━━━━━━━━━━━━━━━━━━━━━━━━━━━━━━━━━━━━━\u001b[0m \u001b[32m781.7/781.7 kB\u001b[0m \u001b[31m47.3 MB/s\u001b[0m eta \u001b[36m0:00:00\u001b[0m\n",
            "\u001b[2K   \u001b[90m━━━━━━━━━━━━━━━━━━━━━━━━━━━━━━━━━━━━━━━━\u001b[0m \u001b[32m897.5/897.5 kB\u001b[0m \u001b[31m55.4 MB/s\u001b[0m eta \u001b[36m0:00:00\u001b[0m\n",
            "\u001b[2K   \u001b[90m━━━━━━━━━━━━━━━━━━━━━━━━━━━━━━━━━━━━━━━━\u001b[0m \u001b[32m12.9/12.9 MB\u001b[0m \u001b[31m110.9 MB/s\u001b[0m eta \u001b[36m0:00:00\u001b[0m\n",
            "\u001b[2K   \u001b[90m━━━━━━━━━━━━━━━━━━━━━━━━━━━━━━━━━━━━━━━━\u001b[0m \u001b[32m83.2/83.2 kB\u001b[0m \u001b[31m8.1 MB/s\u001b[0m eta \u001b[36m0:00:00\u001b[0m\n",
            "\u001b[?25h"
          ]
        }
      ]
    },
    {
      "cell_type": "code",
      "source": [
        "# Import model and tokenizer for the model\n",
        "from transformers import DistilBertTokenizer, DistilBertForSequenceClassification"
      ],
      "metadata": {
        "id": "gyktuEAplLZ9"
      },
      "execution_count": null,
      "outputs": []
    },
    {
      "cell_type": "code",
      "source": [
        "# Download the dataset from Kaggle\n",
        "!kaggle datasets download -d tarkkaanko/amazon"
      ],
      "metadata": {
        "colab": {
          "base_uri": "https://localhost:8080/"
        },
        "id": "ztZk6ZVjX-Qb",
        "outputId": "644e72f1-86a9-4b6a-fa7d-29405f521f16"
      },
      "execution_count": null,
      "outputs": [
        {
          "output_type": "stream",
          "name": "stdout",
          "text": [
            "Warning: Your Kaggle API key is readable by other users on this system! To fix this, you can run 'chmod 600 /root/.config/kaggle/kaggle.json'\n",
            "Dataset URL: https://www.kaggle.com/datasets/tarkkaanko/amazon\n",
            "License(s): CC-BY-NC-SA-4.0\n",
            "Downloading amazon.zip to /content\n",
            "100% 582k/582k [00:00<00:00, 728kB/s]\n",
            "100% 582k/582k [00:00<00:00, 728kB/s]\n"
          ]
        }
      ]
    },
    {
      "cell_type": "code",
      "source": [
        "!ls"
      ],
      "metadata": {
        "colab": {
          "base_uri": "https://localhost:8080/"
        },
        "id": "CrcpzmvBZsj5",
        "outputId": "517e8d5f-b052-4f63-f61a-66dc104c8637"
      },
      "execution_count": null,
      "outputs": [
        {
          "output_type": "stream",
          "name": "stdout",
          "text": [
            "amazon.zip  kaggle  kaggle.json  sample_data\n"
          ]
        }
      ]
    },
    {
      "cell_type": "code",
      "source": [
        "# Unzip the dataset\n",
        "import zipfile\n",
        "with zipfile.ZipFile('amazon.zip', 'r') as zip_ref:\n",
        "    zip_ref.extractall('amazon_reviews')"
      ],
      "metadata": {
        "id": "YcwlKNoSZ60b"
      },
      "execution_count": null,
      "outputs": []
    },
    {
      "cell_type": "code",
      "source": [
        "!ls"
      ],
      "metadata": {
        "colab": {
          "base_uri": "https://localhost:8080/"
        },
        "id": "Mm1nBiXvaGW9",
        "outputId": "dc08bf8e-ae8a-4552-e46f-396db008d481"
      },
      "execution_count": null,
      "outputs": [
        {
          "output_type": "stream",
          "name": "stdout",
          "text": [
            "amazon_reviews\tamazon.zip  kaggle  kaggle.json  sample_data\n"
          ]
        }
      ]
    },
    {
      "cell_type": "code",
      "source": [
        "!ls amazon_reviews"
      ],
      "metadata": {
        "colab": {
          "base_uri": "https://localhost:8080/"
        },
        "id": "15dF-OFnacSC",
        "outputId": "71eca2ea-e4e5-4088-afd5-337d50e1f2f7"
      },
      "execution_count": null,
      "outputs": [
        {
          "output_type": "stream",
          "name": "stdout",
          "text": [
            "amazon_reviews.csv\n"
          ]
        }
      ]
    },
    {
      "cell_type": "code",
      "source": [
        "# Upload data as a pandas dataframe\n",
        "df = pd.read_csv('amazon_reviews/amazon_reviews.csv')\n",
        "df.head()"
      ],
      "metadata": {
        "colab": {
          "base_uri": "https://localhost:8080/",
          "height": 206
        },
        "id": "UefYr6N-aHfy",
        "outputId": "d7a946a4-ec42-4a83-b6d3-ee42cd5b7dc9"
      },
      "execution_count": null,
      "outputs": [
        {
          "output_type": "execute_result",
          "data": {
            "text/plain": [
              "   Unnamed: 0  reviewerName  overall  \\\n",
              "0           0           NaN      4.0   \n",
              "1           1          0mie      5.0   \n",
              "2           2           1K3      4.0   \n",
              "3           3           1m2      5.0   \n",
              "4           4  2&amp;1/2Men      5.0   \n",
              "\n",
              "                                          reviewText  reviewTime  day_diff  \\\n",
              "0                                         No issues.  2014-07-23       138   \n",
              "1  Purchased this for my device, it worked as adv...  2013-10-25       409   \n",
              "2  it works as expected. I should have sprung for...  2012-12-23       715   \n",
              "3  This think has worked out great.Had a diff. br...  2013-11-21       382   \n",
              "4  Bought it with Retail Packaging, arrived legit...  2013-07-13       513   \n",
              "\n",
              "   helpful_yes  helpful_no  total_vote  score_pos_neg_diff  \\\n",
              "0            0           0           0                   0   \n",
              "1            0           0           0                   0   \n",
              "2            0           0           0                   0   \n",
              "3            0           0           0                   0   \n",
              "4            0           0           0                   0   \n",
              "\n",
              "   score_average_rating  wilson_lower_bound  \n",
              "0                   0.0                 0.0  \n",
              "1                   0.0                 0.0  \n",
              "2                   0.0                 0.0  \n",
              "3                   0.0                 0.0  \n",
              "4                   0.0                 0.0  "
            ],
            "text/html": [
              "\n",
              "  <div id=\"df-bf5f6344-9e50-442d-959b-ddcb30313de7\" class=\"colab-df-container\">\n",
              "    <div>\n",
              "<style scoped>\n",
              "    .dataframe tbody tr th:only-of-type {\n",
              "        vertical-align: middle;\n",
              "    }\n",
              "\n",
              "    .dataframe tbody tr th {\n",
              "        vertical-align: top;\n",
              "    }\n",
              "\n",
              "    .dataframe thead th {\n",
              "        text-align: right;\n",
              "    }\n",
              "</style>\n",
              "<table border=\"1\" class=\"dataframe\">\n",
              "  <thead>\n",
              "    <tr style=\"text-align: right;\">\n",
              "      <th></th>\n",
              "      <th>Unnamed: 0</th>\n",
              "      <th>reviewerName</th>\n",
              "      <th>overall</th>\n",
              "      <th>reviewText</th>\n",
              "      <th>reviewTime</th>\n",
              "      <th>day_diff</th>\n",
              "      <th>helpful_yes</th>\n",
              "      <th>helpful_no</th>\n",
              "      <th>total_vote</th>\n",
              "      <th>score_pos_neg_diff</th>\n",
              "      <th>score_average_rating</th>\n",
              "      <th>wilson_lower_bound</th>\n",
              "    </tr>\n",
              "  </thead>\n",
              "  <tbody>\n",
              "    <tr>\n",
              "      <th>0</th>\n",
              "      <td>0</td>\n",
              "      <td>NaN</td>\n",
              "      <td>4.0</td>\n",
              "      <td>No issues.</td>\n",
              "      <td>2014-07-23</td>\n",
              "      <td>138</td>\n",
              "      <td>0</td>\n",
              "      <td>0</td>\n",
              "      <td>0</td>\n",
              "      <td>0</td>\n",
              "      <td>0.0</td>\n",
              "      <td>0.0</td>\n",
              "    </tr>\n",
              "    <tr>\n",
              "      <th>1</th>\n",
              "      <td>1</td>\n",
              "      <td>0mie</td>\n",
              "      <td>5.0</td>\n",
              "      <td>Purchased this for my device, it worked as adv...</td>\n",
              "      <td>2013-10-25</td>\n",
              "      <td>409</td>\n",
              "      <td>0</td>\n",
              "      <td>0</td>\n",
              "      <td>0</td>\n",
              "      <td>0</td>\n",
              "      <td>0.0</td>\n",
              "      <td>0.0</td>\n",
              "    </tr>\n",
              "    <tr>\n",
              "      <th>2</th>\n",
              "      <td>2</td>\n",
              "      <td>1K3</td>\n",
              "      <td>4.0</td>\n",
              "      <td>it works as expected. I should have sprung for...</td>\n",
              "      <td>2012-12-23</td>\n",
              "      <td>715</td>\n",
              "      <td>0</td>\n",
              "      <td>0</td>\n",
              "      <td>0</td>\n",
              "      <td>0</td>\n",
              "      <td>0.0</td>\n",
              "      <td>0.0</td>\n",
              "    </tr>\n",
              "    <tr>\n",
              "      <th>3</th>\n",
              "      <td>3</td>\n",
              "      <td>1m2</td>\n",
              "      <td>5.0</td>\n",
              "      <td>This think has worked out great.Had a diff. br...</td>\n",
              "      <td>2013-11-21</td>\n",
              "      <td>382</td>\n",
              "      <td>0</td>\n",
              "      <td>0</td>\n",
              "      <td>0</td>\n",
              "      <td>0</td>\n",
              "      <td>0.0</td>\n",
              "      <td>0.0</td>\n",
              "    </tr>\n",
              "    <tr>\n",
              "      <th>4</th>\n",
              "      <td>4</td>\n",
              "      <td>2&amp;amp;1/2Men</td>\n",
              "      <td>5.0</td>\n",
              "      <td>Bought it with Retail Packaging, arrived legit...</td>\n",
              "      <td>2013-07-13</td>\n",
              "      <td>513</td>\n",
              "      <td>0</td>\n",
              "      <td>0</td>\n",
              "      <td>0</td>\n",
              "      <td>0</td>\n",
              "      <td>0.0</td>\n",
              "      <td>0.0</td>\n",
              "    </tr>\n",
              "  </tbody>\n",
              "</table>\n",
              "</div>\n",
              "    <div class=\"colab-df-buttons\">\n",
              "\n",
              "  <div class=\"colab-df-container\">\n",
              "    <button class=\"colab-df-convert\" onclick=\"convertToInteractive('df-bf5f6344-9e50-442d-959b-ddcb30313de7')\"\n",
              "            title=\"Convert this dataframe to an interactive table.\"\n",
              "            style=\"display:none;\">\n",
              "\n",
              "  <svg xmlns=\"http://www.w3.org/2000/svg\" height=\"24px\" viewBox=\"0 -960 960 960\">\n",
              "    <path d=\"M120-120v-720h720v720H120Zm60-500h600v-160H180v160Zm220 220h160v-160H400v160Zm0 220h160v-160H400v160ZM180-400h160v-160H180v160Zm440 0h160v-160H620v160ZM180-180h160v-160H180v160Zm440 0h160v-160H620v160Z\"/>\n",
              "  </svg>\n",
              "    </button>\n",
              "\n",
              "  <style>\n",
              "    .colab-df-container {\n",
              "      display:flex;\n",
              "      gap: 12px;\n",
              "    }\n",
              "\n",
              "    .colab-df-convert {\n",
              "      background-color: #E8F0FE;\n",
              "      border: none;\n",
              "      border-radius: 50%;\n",
              "      cursor: pointer;\n",
              "      display: none;\n",
              "      fill: #1967D2;\n",
              "      height: 32px;\n",
              "      padding: 0 0 0 0;\n",
              "      width: 32px;\n",
              "    }\n",
              "\n",
              "    .colab-df-convert:hover {\n",
              "      background-color: #E2EBFA;\n",
              "      box-shadow: 0px 1px 2px rgba(60, 64, 67, 0.3), 0px 1px 3px 1px rgba(60, 64, 67, 0.15);\n",
              "      fill: #174EA6;\n",
              "    }\n",
              "\n",
              "    .colab-df-buttons div {\n",
              "      margin-bottom: 4px;\n",
              "    }\n",
              "\n",
              "    [theme=dark] .colab-df-convert {\n",
              "      background-color: #3B4455;\n",
              "      fill: #D2E3FC;\n",
              "    }\n",
              "\n",
              "    [theme=dark] .colab-df-convert:hover {\n",
              "      background-color: #434B5C;\n",
              "      box-shadow: 0px 1px 3px 1px rgba(0, 0, 0, 0.15);\n",
              "      filter: drop-shadow(0px 1px 2px rgba(0, 0, 0, 0.3));\n",
              "      fill: #FFFFFF;\n",
              "    }\n",
              "  </style>\n",
              "\n",
              "    <script>\n",
              "      const buttonEl =\n",
              "        document.querySelector('#df-bf5f6344-9e50-442d-959b-ddcb30313de7 button.colab-df-convert');\n",
              "      buttonEl.style.display =\n",
              "        google.colab.kernel.accessAllowed ? 'block' : 'none';\n",
              "\n",
              "      async function convertToInteractive(key) {\n",
              "        const element = document.querySelector('#df-bf5f6344-9e50-442d-959b-ddcb30313de7');\n",
              "        const dataTable =\n",
              "          await google.colab.kernel.invokeFunction('convertToInteractive',\n",
              "                                                    [key], {});\n",
              "        if (!dataTable) return;\n",
              "\n",
              "        const docLinkHtml = 'Like what you see? Visit the ' +\n",
              "          '<a target=\"_blank\" href=https://colab.research.google.com/notebooks/data_table.ipynb>data table notebook</a>'\n",
              "          + ' to learn more about interactive tables.';\n",
              "        element.innerHTML = '';\n",
              "        dataTable['output_type'] = 'display_data';\n",
              "        await google.colab.output.renderOutput(dataTable, element);\n",
              "        const docLink = document.createElement('div');\n",
              "        docLink.innerHTML = docLinkHtml;\n",
              "        element.appendChild(docLink);\n",
              "      }\n",
              "    </script>\n",
              "  </div>\n",
              "\n",
              "\n",
              "<div id=\"df-0327e458-448e-40b5-8398-1cfe511117ab\">\n",
              "  <button class=\"colab-df-quickchart\" onclick=\"quickchart('df-0327e458-448e-40b5-8398-1cfe511117ab')\"\n",
              "            title=\"Suggest charts\"\n",
              "            style=\"display:none;\">\n",
              "\n",
              "<svg xmlns=\"http://www.w3.org/2000/svg\" height=\"24px\"viewBox=\"0 0 24 24\"\n",
              "     width=\"24px\">\n",
              "    <g>\n",
              "        <path d=\"M19 3H5c-1.1 0-2 .9-2 2v14c0 1.1.9 2 2 2h14c1.1 0 2-.9 2-2V5c0-1.1-.9-2-2-2zM9 17H7v-7h2v7zm4 0h-2V7h2v10zm4 0h-2v-4h2v4z\"/>\n",
              "    </g>\n",
              "</svg>\n",
              "  </button>\n",
              "\n",
              "<style>\n",
              "  .colab-df-quickchart {\n",
              "      --bg-color: #E8F0FE;\n",
              "      --fill-color: #1967D2;\n",
              "      --hover-bg-color: #E2EBFA;\n",
              "      --hover-fill-color: #174EA6;\n",
              "      --disabled-fill-color: #AAA;\n",
              "      --disabled-bg-color: #DDD;\n",
              "  }\n",
              "\n",
              "  [theme=dark] .colab-df-quickchart {\n",
              "      --bg-color: #3B4455;\n",
              "      --fill-color: #D2E3FC;\n",
              "      --hover-bg-color: #434B5C;\n",
              "      --hover-fill-color: #FFFFFF;\n",
              "      --disabled-bg-color: #3B4455;\n",
              "      --disabled-fill-color: #666;\n",
              "  }\n",
              "\n",
              "  .colab-df-quickchart {\n",
              "    background-color: var(--bg-color);\n",
              "    border: none;\n",
              "    border-radius: 50%;\n",
              "    cursor: pointer;\n",
              "    display: none;\n",
              "    fill: var(--fill-color);\n",
              "    height: 32px;\n",
              "    padding: 0;\n",
              "    width: 32px;\n",
              "  }\n",
              "\n",
              "  .colab-df-quickchart:hover {\n",
              "    background-color: var(--hover-bg-color);\n",
              "    box-shadow: 0 1px 2px rgba(60, 64, 67, 0.3), 0 1px 3px 1px rgba(60, 64, 67, 0.15);\n",
              "    fill: var(--button-hover-fill-color);\n",
              "  }\n",
              "\n",
              "  .colab-df-quickchart-complete:disabled,\n",
              "  .colab-df-quickchart-complete:disabled:hover {\n",
              "    background-color: var(--disabled-bg-color);\n",
              "    fill: var(--disabled-fill-color);\n",
              "    box-shadow: none;\n",
              "  }\n",
              "\n",
              "  .colab-df-spinner {\n",
              "    border: 2px solid var(--fill-color);\n",
              "    border-color: transparent;\n",
              "    border-bottom-color: var(--fill-color);\n",
              "    animation:\n",
              "      spin 1s steps(1) infinite;\n",
              "  }\n",
              "\n",
              "  @keyframes spin {\n",
              "    0% {\n",
              "      border-color: transparent;\n",
              "      border-bottom-color: var(--fill-color);\n",
              "      border-left-color: var(--fill-color);\n",
              "    }\n",
              "    20% {\n",
              "      border-color: transparent;\n",
              "      border-left-color: var(--fill-color);\n",
              "      border-top-color: var(--fill-color);\n",
              "    }\n",
              "    30% {\n",
              "      border-color: transparent;\n",
              "      border-left-color: var(--fill-color);\n",
              "      border-top-color: var(--fill-color);\n",
              "      border-right-color: var(--fill-color);\n",
              "    }\n",
              "    40% {\n",
              "      border-color: transparent;\n",
              "      border-right-color: var(--fill-color);\n",
              "      border-top-color: var(--fill-color);\n",
              "    }\n",
              "    60% {\n",
              "      border-color: transparent;\n",
              "      border-right-color: var(--fill-color);\n",
              "    }\n",
              "    80% {\n",
              "      border-color: transparent;\n",
              "      border-right-color: var(--fill-color);\n",
              "      border-bottom-color: var(--fill-color);\n",
              "    }\n",
              "    90% {\n",
              "      border-color: transparent;\n",
              "      border-bottom-color: var(--fill-color);\n",
              "    }\n",
              "  }\n",
              "</style>\n",
              "\n",
              "  <script>\n",
              "    async function quickchart(key) {\n",
              "      const quickchartButtonEl =\n",
              "        document.querySelector('#' + key + ' button');\n",
              "      quickchartButtonEl.disabled = true;  // To prevent multiple clicks.\n",
              "      quickchartButtonEl.classList.add('colab-df-spinner');\n",
              "      try {\n",
              "        const charts = await google.colab.kernel.invokeFunction(\n",
              "            'suggestCharts', [key], {});\n",
              "      } catch (error) {\n",
              "        console.error('Error during call to suggestCharts:', error);\n",
              "      }\n",
              "      quickchartButtonEl.classList.remove('colab-df-spinner');\n",
              "      quickchartButtonEl.classList.add('colab-df-quickchart-complete');\n",
              "    }\n",
              "    (() => {\n",
              "      let quickchartButtonEl =\n",
              "        document.querySelector('#df-0327e458-448e-40b5-8398-1cfe511117ab button');\n",
              "      quickchartButtonEl.style.display =\n",
              "        google.colab.kernel.accessAllowed ? 'block' : 'none';\n",
              "    })();\n",
              "  </script>\n",
              "</div>\n",
              "\n",
              "    </div>\n",
              "  </div>\n"
            ],
            "application/vnd.google.colaboratory.intrinsic+json": {
              "type": "dataframe",
              "variable_name": "df",
              "summary": "{\n  \"name\": \"df\",\n  \"rows\": 4915,\n  \"fields\": [\n    {\n      \"column\": \"Unnamed: 0\",\n      \"properties\": {\n        \"dtype\": \"number\",\n        \"std\": 1418,\n        \"min\": 0,\n        \"max\": 4914,\n        \"num_unique_values\": 4915,\n        \"samples\": [\n          2346,\n          4344,\n          691\n        ],\n        \"semantic_type\": \"\",\n        \"description\": \"\"\n      }\n    },\n    {\n      \"column\": \"reviewerName\",\n      \"properties\": {\n        \"dtype\": \"string\",\n        \"num_unique_values\": 4594,\n        \"samples\": [\n          \"nta699\",\n          \"Maximus\",\n          \"G. Jackson\"\n        ],\n        \"semantic_type\": \"\",\n        \"description\": \"\"\n      }\n    },\n    {\n      \"column\": \"overall\",\n      \"properties\": {\n        \"dtype\": \"number\",\n        \"std\": 0.9968451383820023,\n        \"min\": 1.0,\n        \"max\": 5.0,\n        \"num_unique_values\": 5,\n        \"samples\": [\n          5.0,\n          2.0,\n          3.0\n        ],\n        \"semantic_type\": \"\",\n        \"description\": \"\"\n      }\n    },\n    {\n      \"column\": \"reviewText\",\n      \"properties\": {\n        \"dtype\": \"string\",\n        \"num_unique_values\": 4912,\n        \"samples\": [\n          \"Bought this for extended memory in a Galaxy S III.  Great price. Easy to install and the phone recognized it instantly. Does what its supposed to do.\",\n          \"I bought this after I found out that you can add a memory card to the Samsung galaxy s4! I never even knew that you could, and so once I found out I bought this and installed it. It's worked perfectly since and holds all of my songs and videos.  Great buy!\",\n          \"Using it on a Canon 6D. No camplains at all. Really fast access. The adapter itself is not at same level, even though. Bad connection, had to use a previous adapter that I already had.\"\n        ],\n        \"semantic_type\": \"\",\n        \"description\": \"\"\n      }\n    },\n    {\n      \"column\": \"reviewTime\",\n      \"properties\": {\n        \"dtype\": \"object\",\n        \"num_unique_values\": 690,\n        \"samples\": [\n          \"2013-03-12\",\n          \"2013-09-10\",\n          \"2012-12-09\"\n        ],\n        \"semantic_type\": \"\",\n        \"description\": \"\"\n      }\n    },\n    {\n      \"column\": \"day_diff\",\n      \"properties\": {\n        \"dtype\": \"number\",\n        \"std\": 209,\n        \"min\": 1,\n        \"max\": 1064,\n        \"num_unique_values\": 690,\n        \"samples\": [\n          636,\n          454,\n          729\n        ],\n        \"semantic_type\": \"\",\n        \"description\": \"\"\n      }\n    },\n    {\n      \"column\": \"helpful_yes\",\n      \"properties\": {\n        \"dtype\": \"number\",\n        \"std\": 41,\n        \"min\": 0,\n        \"max\": 1952,\n        \"num_unique_values\": 23,\n        \"samples\": [\n          1428,\n          6,\n          0\n        ],\n        \"semantic_type\": \"\",\n        \"description\": \"\"\n      }\n    },\n    {\n      \"column\": \"helpful_no\",\n      \"properties\": {\n        \"dtype\": \"number\",\n        \"std\": 4,\n        \"min\": 0,\n        \"max\": 183,\n        \"num_unique_values\": 17,\n        \"samples\": [\n          0,\n          1,\n          10\n        ],\n        \"semantic_type\": \"\",\n        \"description\": \"\"\n      }\n    },\n    {\n      \"column\": \"total_vote\",\n      \"properties\": {\n        \"dtype\": \"number\",\n        \"std\": 44,\n        \"min\": 0,\n        \"max\": 2020,\n        \"num_unique_values\": 26,\n        \"samples\": [\n          495,\n          1505,\n          0\n        ],\n        \"semantic_type\": \"\",\n        \"description\": \"\"\n      }\n    },\n    {\n      \"column\": \"score_pos_neg_diff\",\n      \"properties\": {\n        \"dtype\": \"number\",\n        \"std\": 39,\n        \"min\": -130,\n        \"max\": 1884,\n        \"num_unique_values\": 27,\n        \"samples\": [\n          -2,\n          52,\n          -3\n        ],\n        \"semantic_type\": \"\",\n        \"description\": \"\"\n      }\n    },\n    {\n      \"column\": \"score_average_rating\",\n      \"properties\": {\n        \"dtype\": \"number\",\n        \"std\": 0.2560623780287919,\n        \"min\": 0.0,\n        \"max\": 1.0,\n        \"num_unique_values\": 28,\n        \"samples\": [\n          0.3333333333333333,\n          0.3076923076923077,\n          0.8571428571428571\n        ],\n        \"semantic_type\": \"\",\n        \"description\": \"\"\n      }\n    },\n    {\n      \"column\": \"wilson_lower_bound\",\n      \"properties\": {\n        \"dtype\": \"number\",\n        \"std\": 0.07718744112047721,\n        \"min\": 0.0,\n        \"max\": 0.9575439475520824,\n        \"num_unique_values\": 40,\n        \"samples\": [\n          0.6456695649333126,\n          0.4364971778135299,\n          0.3755346297625253\n        ],\n        \"semantic_type\": \"\",\n        \"description\": \"\"\n      }\n    }\n  ]\n}"
            }
          },
          "metadata": {},
          "execution_count": 17
        }
      ]
    },
    {
      "cell_type": "code",
      "source": [
        "df.info()"
      ],
      "metadata": {
        "colab": {
          "base_uri": "https://localhost:8080/"
        },
        "id": "Qy06eMAcahmH",
        "outputId": "45e2a28d-6661-48c7-fccb-df255f3841b2"
      },
      "execution_count": null,
      "outputs": [
        {
          "output_type": "stream",
          "name": "stdout",
          "text": [
            "<class 'pandas.core.frame.DataFrame'>\n",
            "RangeIndex: 4915 entries, 0 to 4914\n",
            "Data columns (total 12 columns):\n",
            " #   Column                Non-Null Count  Dtype  \n",
            "---  ------                --------------  -----  \n",
            " 0   Unnamed: 0            4915 non-null   int64  \n",
            " 1   reviewerName          4914 non-null   object \n",
            " 2   overall               4915 non-null   float64\n",
            " 3   reviewText            4914 non-null   object \n",
            " 4   reviewTime            4915 non-null   object \n",
            " 5   day_diff              4915 non-null   int64  \n",
            " 6   helpful_yes           4915 non-null   int64  \n",
            " 7   helpful_no            4915 non-null   int64  \n",
            " 8   total_vote            4915 non-null   int64  \n",
            " 9   score_pos_neg_diff    4915 non-null   int64  \n",
            " 10  score_average_rating  4915 non-null   float64\n",
            " 11  wilson_lower_bound    4915 non-null   float64\n",
            "dtypes: float64(3), int64(6), object(3)\n",
            "memory usage: 460.9+ KB\n"
          ]
        }
      ]
    },
    {
      "cell_type": "markdown",
      "source": [
        "### 2. EDA\n",
        "* Explore and clean the dataset to understand datastructure and identify quality issues.\n",
        "* Exlplore distribution of reviews by score.\n",
        "* Visualize distribution by score."
      ],
      "metadata": {
        "id": "VJPl7cMNakOK"
      }
    },
    {
      "cell_type": "markdown",
      "source": [
        "**Clean Text Data**"
      ],
      "metadata": {
        "id": "0I8HEbTqipV0"
      }
    },
    {
      "cell_type": "code",
      "source": [
        "# Check which distinct rating scores are available\n",
        "df['overall'].unique()"
      ],
      "metadata": {
        "colab": {
          "base_uri": "https://localhost:8080/"
        },
        "id": "JNhcm1dGa6Ph",
        "outputId": "118595d8-9b88-42a8-80c1-56209ef285fa"
      },
      "execution_count": null,
      "outputs": [
        {
          "output_type": "execute_result",
          "data": {
            "text/plain": [
              "array([4., 5., 3., 1., 2.])"
            ]
          },
          "metadata": {},
          "execution_count": 19
        }
      ]
    },
    {
      "cell_type": "code",
      "source": [
        "# Remove irrelevant columns\n",
        "df = df[['reviewText', 'overall']]\n",
        "df.head()"
      ],
      "metadata": {
        "colab": {
          "base_uri": "https://localhost:8080/",
          "height": 206
        },
        "id": "pzmbh4_ye6Cx",
        "outputId": "47f31ea1-6a21-40f9-b991-21b6c6485e11"
      },
      "execution_count": null,
      "outputs": [
        {
          "output_type": "execute_result",
          "data": {
            "text/plain": [
              "                                          reviewText  overall\n",
              "0                                         No issues.      4.0\n",
              "1  Purchased this for my device, it worked as adv...      5.0\n",
              "2  it works as expected. I should have sprung for...      4.0\n",
              "3  This think has worked out great.Had a diff. br...      5.0\n",
              "4  Bought it with Retail Packaging, arrived legit...      5.0"
            ],
            "text/html": [
              "\n",
              "  <div id=\"df-195ad26e-ba4d-49cc-98d0-4570f308848b\" class=\"colab-df-container\">\n",
              "    <div>\n",
              "<style scoped>\n",
              "    .dataframe tbody tr th:only-of-type {\n",
              "        vertical-align: middle;\n",
              "    }\n",
              "\n",
              "    .dataframe tbody tr th {\n",
              "        vertical-align: top;\n",
              "    }\n",
              "\n",
              "    .dataframe thead th {\n",
              "        text-align: right;\n",
              "    }\n",
              "</style>\n",
              "<table border=\"1\" class=\"dataframe\">\n",
              "  <thead>\n",
              "    <tr style=\"text-align: right;\">\n",
              "      <th></th>\n",
              "      <th>reviewText</th>\n",
              "      <th>overall</th>\n",
              "    </tr>\n",
              "  </thead>\n",
              "  <tbody>\n",
              "    <tr>\n",
              "      <th>0</th>\n",
              "      <td>No issues.</td>\n",
              "      <td>4.0</td>\n",
              "    </tr>\n",
              "    <tr>\n",
              "      <th>1</th>\n",
              "      <td>Purchased this for my device, it worked as adv...</td>\n",
              "      <td>5.0</td>\n",
              "    </tr>\n",
              "    <tr>\n",
              "      <th>2</th>\n",
              "      <td>it works as expected. I should have sprung for...</td>\n",
              "      <td>4.0</td>\n",
              "    </tr>\n",
              "    <tr>\n",
              "      <th>3</th>\n",
              "      <td>This think has worked out great.Had a diff. br...</td>\n",
              "      <td>5.0</td>\n",
              "    </tr>\n",
              "    <tr>\n",
              "      <th>4</th>\n",
              "      <td>Bought it with Retail Packaging, arrived legit...</td>\n",
              "      <td>5.0</td>\n",
              "    </tr>\n",
              "  </tbody>\n",
              "</table>\n",
              "</div>\n",
              "    <div class=\"colab-df-buttons\">\n",
              "\n",
              "  <div class=\"colab-df-container\">\n",
              "    <button class=\"colab-df-convert\" onclick=\"convertToInteractive('df-195ad26e-ba4d-49cc-98d0-4570f308848b')\"\n",
              "            title=\"Convert this dataframe to an interactive table.\"\n",
              "            style=\"display:none;\">\n",
              "\n",
              "  <svg xmlns=\"http://www.w3.org/2000/svg\" height=\"24px\" viewBox=\"0 -960 960 960\">\n",
              "    <path d=\"M120-120v-720h720v720H120Zm60-500h600v-160H180v160Zm220 220h160v-160H400v160Zm0 220h160v-160H400v160ZM180-400h160v-160H180v160Zm440 0h160v-160H620v160ZM180-180h160v-160H180v160Zm440 0h160v-160H620v160Z\"/>\n",
              "  </svg>\n",
              "    </button>\n",
              "\n",
              "  <style>\n",
              "    .colab-df-container {\n",
              "      display:flex;\n",
              "      gap: 12px;\n",
              "    }\n",
              "\n",
              "    .colab-df-convert {\n",
              "      background-color: #E8F0FE;\n",
              "      border: none;\n",
              "      border-radius: 50%;\n",
              "      cursor: pointer;\n",
              "      display: none;\n",
              "      fill: #1967D2;\n",
              "      height: 32px;\n",
              "      padding: 0 0 0 0;\n",
              "      width: 32px;\n",
              "    }\n",
              "\n",
              "    .colab-df-convert:hover {\n",
              "      background-color: #E2EBFA;\n",
              "      box-shadow: 0px 1px 2px rgba(60, 64, 67, 0.3), 0px 1px 3px 1px rgba(60, 64, 67, 0.15);\n",
              "      fill: #174EA6;\n",
              "    }\n",
              "\n",
              "    .colab-df-buttons div {\n",
              "      margin-bottom: 4px;\n",
              "    }\n",
              "\n",
              "    [theme=dark] .colab-df-convert {\n",
              "      background-color: #3B4455;\n",
              "      fill: #D2E3FC;\n",
              "    }\n",
              "\n",
              "    [theme=dark] .colab-df-convert:hover {\n",
              "      background-color: #434B5C;\n",
              "      box-shadow: 0px 1px 3px 1px rgba(0, 0, 0, 0.15);\n",
              "      filter: drop-shadow(0px 1px 2px rgba(0, 0, 0, 0.3));\n",
              "      fill: #FFFFFF;\n",
              "    }\n",
              "  </style>\n",
              "\n",
              "    <script>\n",
              "      const buttonEl =\n",
              "        document.querySelector('#df-195ad26e-ba4d-49cc-98d0-4570f308848b button.colab-df-convert');\n",
              "      buttonEl.style.display =\n",
              "        google.colab.kernel.accessAllowed ? 'block' : 'none';\n",
              "\n",
              "      async function convertToInteractive(key) {\n",
              "        const element = document.querySelector('#df-195ad26e-ba4d-49cc-98d0-4570f308848b');\n",
              "        const dataTable =\n",
              "          await google.colab.kernel.invokeFunction('convertToInteractive',\n",
              "                                                    [key], {});\n",
              "        if (!dataTable) return;\n",
              "\n",
              "        const docLinkHtml = 'Like what you see? Visit the ' +\n",
              "          '<a target=\"_blank\" href=https://colab.research.google.com/notebooks/data_table.ipynb>data table notebook</a>'\n",
              "          + ' to learn more about interactive tables.';\n",
              "        element.innerHTML = '';\n",
              "        dataTable['output_type'] = 'display_data';\n",
              "        await google.colab.output.renderOutput(dataTable, element);\n",
              "        const docLink = document.createElement('div');\n",
              "        docLink.innerHTML = docLinkHtml;\n",
              "        element.appendChild(docLink);\n",
              "      }\n",
              "    </script>\n",
              "  </div>\n",
              "\n",
              "\n",
              "<div id=\"df-2ae20fc7-62af-4a95-8078-b1df9992fade\">\n",
              "  <button class=\"colab-df-quickchart\" onclick=\"quickchart('df-2ae20fc7-62af-4a95-8078-b1df9992fade')\"\n",
              "            title=\"Suggest charts\"\n",
              "            style=\"display:none;\">\n",
              "\n",
              "<svg xmlns=\"http://www.w3.org/2000/svg\" height=\"24px\"viewBox=\"0 0 24 24\"\n",
              "     width=\"24px\">\n",
              "    <g>\n",
              "        <path d=\"M19 3H5c-1.1 0-2 .9-2 2v14c0 1.1.9 2 2 2h14c1.1 0 2-.9 2-2V5c0-1.1-.9-2-2-2zM9 17H7v-7h2v7zm4 0h-2V7h2v10zm4 0h-2v-4h2v4z\"/>\n",
              "    </g>\n",
              "</svg>\n",
              "  </button>\n",
              "\n",
              "<style>\n",
              "  .colab-df-quickchart {\n",
              "      --bg-color: #E8F0FE;\n",
              "      --fill-color: #1967D2;\n",
              "      --hover-bg-color: #E2EBFA;\n",
              "      --hover-fill-color: #174EA6;\n",
              "      --disabled-fill-color: #AAA;\n",
              "      --disabled-bg-color: #DDD;\n",
              "  }\n",
              "\n",
              "  [theme=dark] .colab-df-quickchart {\n",
              "      --bg-color: #3B4455;\n",
              "      --fill-color: #D2E3FC;\n",
              "      --hover-bg-color: #434B5C;\n",
              "      --hover-fill-color: #FFFFFF;\n",
              "      --disabled-bg-color: #3B4455;\n",
              "      --disabled-fill-color: #666;\n",
              "  }\n",
              "\n",
              "  .colab-df-quickchart {\n",
              "    background-color: var(--bg-color);\n",
              "    border: none;\n",
              "    border-radius: 50%;\n",
              "    cursor: pointer;\n",
              "    display: none;\n",
              "    fill: var(--fill-color);\n",
              "    height: 32px;\n",
              "    padding: 0;\n",
              "    width: 32px;\n",
              "  }\n",
              "\n",
              "  .colab-df-quickchart:hover {\n",
              "    background-color: var(--hover-bg-color);\n",
              "    box-shadow: 0 1px 2px rgba(60, 64, 67, 0.3), 0 1px 3px 1px rgba(60, 64, 67, 0.15);\n",
              "    fill: var(--button-hover-fill-color);\n",
              "  }\n",
              "\n",
              "  .colab-df-quickchart-complete:disabled,\n",
              "  .colab-df-quickchart-complete:disabled:hover {\n",
              "    background-color: var(--disabled-bg-color);\n",
              "    fill: var(--disabled-fill-color);\n",
              "    box-shadow: none;\n",
              "  }\n",
              "\n",
              "  .colab-df-spinner {\n",
              "    border: 2px solid var(--fill-color);\n",
              "    border-color: transparent;\n",
              "    border-bottom-color: var(--fill-color);\n",
              "    animation:\n",
              "      spin 1s steps(1) infinite;\n",
              "  }\n",
              "\n",
              "  @keyframes spin {\n",
              "    0% {\n",
              "      border-color: transparent;\n",
              "      border-bottom-color: var(--fill-color);\n",
              "      border-left-color: var(--fill-color);\n",
              "    }\n",
              "    20% {\n",
              "      border-color: transparent;\n",
              "      border-left-color: var(--fill-color);\n",
              "      border-top-color: var(--fill-color);\n",
              "    }\n",
              "    30% {\n",
              "      border-color: transparent;\n",
              "      border-left-color: var(--fill-color);\n",
              "      border-top-color: var(--fill-color);\n",
              "      border-right-color: var(--fill-color);\n",
              "    }\n",
              "    40% {\n",
              "      border-color: transparent;\n",
              "      border-right-color: var(--fill-color);\n",
              "      border-top-color: var(--fill-color);\n",
              "    }\n",
              "    60% {\n",
              "      border-color: transparent;\n",
              "      border-right-color: var(--fill-color);\n",
              "    }\n",
              "    80% {\n",
              "      border-color: transparent;\n",
              "      border-right-color: var(--fill-color);\n",
              "      border-bottom-color: var(--fill-color);\n",
              "    }\n",
              "    90% {\n",
              "      border-color: transparent;\n",
              "      border-bottom-color: var(--fill-color);\n",
              "    }\n",
              "  }\n",
              "</style>\n",
              "\n",
              "  <script>\n",
              "    async function quickchart(key) {\n",
              "      const quickchartButtonEl =\n",
              "        document.querySelector('#' + key + ' button');\n",
              "      quickchartButtonEl.disabled = true;  // To prevent multiple clicks.\n",
              "      quickchartButtonEl.classList.add('colab-df-spinner');\n",
              "      try {\n",
              "        const charts = await google.colab.kernel.invokeFunction(\n",
              "            'suggestCharts', [key], {});\n",
              "      } catch (error) {\n",
              "        console.error('Error during call to suggestCharts:', error);\n",
              "      }\n",
              "      quickchartButtonEl.classList.remove('colab-df-spinner');\n",
              "      quickchartButtonEl.classList.add('colab-df-quickchart-complete');\n",
              "    }\n",
              "    (() => {\n",
              "      let quickchartButtonEl =\n",
              "        document.querySelector('#df-2ae20fc7-62af-4a95-8078-b1df9992fade button');\n",
              "      quickchartButtonEl.style.display =\n",
              "        google.colab.kernel.accessAllowed ? 'block' : 'none';\n",
              "    })();\n",
              "  </script>\n",
              "</div>\n",
              "\n",
              "    </div>\n",
              "  </div>\n"
            ],
            "application/vnd.google.colaboratory.intrinsic+json": {
              "type": "dataframe",
              "variable_name": "df",
              "summary": "{\n  \"name\": \"df\",\n  \"rows\": 4915,\n  \"fields\": [\n    {\n      \"column\": \"reviewText\",\n      \"properties\": {\n        \"dtype\": \"string\",\n        \"num_unique_values\": 4912,\n        \"samples\": [\n          \"Bought this for extended memory in a Galaxy S III.  Great price. Easy to install and the phone recognized it instantly. Does what its supposed to do.\",\n          \"I bought this after I found out that you can add a memory card to the Samsung galaxy s4! I never even knew that you could, and so once I found out I bought this and installed it. It's worked perfectly since and holds all of my songs and videos.  Great buy!\",\n          \"Using it on a Canon 6D. No camplains at all. Really fast access. The adapter itself is not at same level, even though. Bad connection, had to use a previous adapter that I already had.\"\n        ],\n        \"semantic_type\": \"\",\n        \"description\": \"\"\n      }\n    },\n    {\n      \"column\": \"overall\",\n      \"properties\": {\n        \"dtype\": \"number\",\n        \"std\": 0.9968451383820023,\n        \"min\": 1.0,\n        \"max\": 5.0,\n        \"num_unique_values\": 5,\n        \"samples\": [\n          5.0,\n          2.0,\n          3.0\n        ],\n        \"semantic_type\": \"\",\n        \"description\": \"\"\n      }\n    }\n  ]\n}"
            }
          },
          "metadata": {},
          "execution_count": 20
        }
      ]
    },
    {
      "cell_type": "code",
      "source": [
        "# Check for missing reviewText\n",
        "df[df['reviewText'].isnull()]"
      ],
      "metadata": {
        "colab": {
          "base_uri": "https://localhost:8080/",
          "height": 81
        },
        "id": "tXPcRIjUfnrx",
        "outputId": "db2fdfb6-058a-4aa0-d62e-b654e2906c44"
      },
      "execution_count": null,
      "outputs": [
        {
          "output_type": "execute_result",
          "data": {
            "text/plain": [
              "    reviewText  overall\n",
              "125        NaN      5.0"
            ],
            "text/html": [
              "\n",
              "  <div id=\"df-9f91e7db-9881-4e9b-aa06-ec73f84d6ce5\" class=\"colab-df-container\">\n",
              "    <div>\n",
              "<style scoped>\n",
              "    .dataframe tbody tr th:only-of-type {\n",
              "        vertical-align: middle;\n",
              "    }\n",
              "\n",
              "    .dataframe tbody tr th {\n",
              "        vertical-align: top;\n",
              "    }\n",
              "\n",
              "    .dataframe thead th {\n",
              "        text-align: right;\n",
              "    }\n",
              "</style>\n",
              "<table border=\"1\" class=\"dataframe\">\n",
              "  <thead>\n",
              "    <tr style=\"text-align: right;\">\n",
              "      <th></th>\n",
              "      <th>reviewText</th>\n",
              "      <th>overall</th>\n",
              "    </tr>\n",
              "  </thead>\n",
              "  <tbody>\n",
              "    <tr>\n",
              "      <th>125</th>\n",
              "      <td>NaN</td>\n",
              "      <td>5.0</td>\n",
              "    </tr>\n",
              "  </tbody>\n",
              "</table>\n",
              "</div>\n",
              "    <div class=\"colab-df-buttons\">\n",
              "\n",
              "  <div class=\"colab-df-container\">\n",
              "    <button class=\"colab-df-convert\" onclick=\"convertToInteractive('df-9f91e7db-9881-4e9b-aa06-ec73f84d6ce5')\"\n",
              "            title=\"Convert this dataframe to an interactive table.\"\n",
              "            style=\"display:none;\">\n",
              "\n",
              "  <svg xmlns=\"http://www.w3.org/2000/svg\" height=\"24px\" viewBox=\"0 -960 960 960\">\n",
              "    <path d=\"M120-120v-720h720v720H120Zm60-500h600v-160H180v160Zm220 220h160v-160H400v160Zm0 220h160v-160H400v160ZM180-400h160v-160H180v160Zm440 0h160v-160H620v160ZM180-180h160v-160H180v160Zm440 0h160v-160H620v160Z\"/>\n",
              "  </svg>\n",
              "    </button>\n",
              "\n",
              "  <style>\n",
              "    .colab-df-container {\n",
              "      display:flex;\n",
              "      gap: 12px;\n",
              "    }\n",
              "\n",
              "    .colab-df-convert {\n",
              "      background-color: #E8F0FE;\n",
              "      border: none;\n",
              "      border-radius: 50%;\n",
              "      cursor: pointer;\n",
              "      display: none;\n",
              "      fill: #1967D2;\n",
              "      height: 32px;\n",
              "      padding: 0 0 0 0;\n",
              "      width: 32px;\n",
              "    }\n",
              "\n",
              "    .colab-df-convert:hover {\n",
              "      background-color: #E2EBFA;\n",
              "      box-shadow: 0px 1px 2px rgba(60, 64, 67, 0.3), 0px 1px 3px 1px rgba(60, 64, 67, 0.15);\n",
              "      fill: #174EA6;\n",
              "    }\n",
              "\n",
              "    .colab-df-buttons div {\n",
              "      margin-bottom: 4px;\n",
              "    }\n",
              "\n",
              "    [theme=dark] .colab-df-convert {\n",
              "      background-color: #3B4455;\n",
              "      fill: #D2E3FC;\n",
              "    }\n",
              "\n",
              "    [theme=dark] .colab-df-convert:hover {\n",
              "      background-color: #434B5C;\n",
              "      box-shadow: 0px 1px 3px 1px rgba(0, 0, 0, 0.15);\n",
              "      filter: drop-shadow(0px 1px 2px rgba(0, 0, 0, 0.3));\n",
              "      fill: #FFFFFF;\n",
              "    }\n",
              "  </style>\n",
              "\n",
              "    <script>\n",
              "      const buttonEl =\n",
              "        document.querySelector('#df-9f91e7db-9881-4e9b-aa06-ec73f84d6ce5 button.colab-df-convert');\n",
              "      buttonEl.style.display =\n",
              "        google.colab.kernel.accessAllowed ? 'block' : 'none';\n",
              "\n",
              "      async function convertToInteractive(key) {\n",
              "        const element = document.querySelector('#df-9f91e7db-9881-4e9b-aa06-ec73f84d6ce5');\n",
              "        const dataTable =\n",
              "          await google.colab.kernel.invokeFunction('convertToInteractive',\n",
              "                                                    [key], {});\n",
              "        if (!dataTable) return;\n",
              "\n",
              "        const docLinkHtml = 'Like what you see? Visit the ' +\n",
              "          '<a target=\"_blank\" href=https://colab.research.google.com/notebooks/data_table.ipynb>data table notebook</a>'\n",
              "          + ' to learn more about interactive tables.';\n",
              "        element.innerHTML = '';\n",
              "        dataTable['output_type'] = 'display_data';\n",
              "        await google.colab.output.renderOutput(dataTable, element);\n",
              "        const docLink = document.createElement('div');\n",
              "        docLink.innerHTML = docLinkHtml;\n",
              "        element.appendChild(docLink);\n",
              "      }\n",
              "    </script>\n",
              "  </div>\n",
              "\n",
              "\n",
              "    </div>\n",
              "  </div>\n"
            ],
            "application/vnd.google.colaboratory.intrinsic+json": {
              "type": "dataframe",
              "repr_error": "0"
            }
          },
          "metadata": {},
          "execution_count": 21
        }
      ]
    },
    {
      "cell_type": "code",
      "source": [
        "# Remove the row\n",
        "df = df.dropna(subset=['reviewText'])"
      ],
      "metadata": {
        "id": "AlBHaLj6f7Jb"
      },
      "execution_count": null,
      "outputs": []
    },
    {
      "cell_type": "code",
      "source": [
        "# Verify that no missing values remain in 'reviewText'\n",
        "df['reviewText'].isnull().sum()"
      ],
      "metadata": {
        "colab": {
          "base_uri": "https://localhost:8080/"
        },
        "id": "pqp77eqpgqHN",
        "outputId": "3371ff25-1b15-463a-d3e1-94f21f92c2dd"
      },
      "execution_count": null,
      "outputs": [
        {
          "output_type": "execute_result",
          "data": {
            "text/plain": [
              "0"
            ]
          },
          "metadata": {},
          "execution_count": 23
        }
      ]
    },
    {
      "cell_type": "code",
      "source": [
        "# Check the distribution of review lenghts, DistilBERT can deal with up to 512 characters\n",
        "df['reviewText'].apply(lambda x: len(x.split())).describe()"
      ],
      "metadata": {
        "colab": {
          "base_uri": "https://localhost:8080/",
          "height": 335
        },
        "id": "Uv-I-Ic4gwkp",
        "outputId": "ff4dc9da-d1f8-43ad-ed23-a74378a843b4"
      },
      "execution_count": null,
      "outputs": [
        {
          "output_type": "execute_result",
          "data": {
            "text/plain": [
              "count    4914.000000\n",
              "mean       50.452584\n",
              "std        59.116494\n",
              "min         1.000000\n",
              "25%        23.000000\n",
              "50%        33.000000\n",
              "75%        55.000000\n",
              "max      1554.000000\n",
              "Name: reviewText, dtype: float64"
            ],
            "text/html": [
              "<div>\n",
              "<style scoped>\n",
              "    .dataframe tbody tr th:only-of-type {\n",
              "        vertical-align: middle;\n",
              "    }\n",
              "\n",
              "    .dataframe tbody tr th {\n",
              "        vertical-align: top;\n",
              "    }\n",
              "\n",
              "    .dataframe thead th {\n",
              "        text-align: right;\n",
              "    }\n",
              "</style>\n",
              "<table border=\"1\" class=\"dataframe\">\n",
              "  <thead>\n",
              "    <tr style=\"text-align: right;\">\n",
              "      <th></th>\n",
              "      <th>reviewText</th>\n",
              "    </tr>\n",
              "  </thead>\n",
              "  <tbody>\n",
              "    <tr>\n",
              "      <th>count</th>\n",
              "      <td>4914.000000</td>\n",
              "    </tr>\n",
              "    <tr>\n",
              "      <th>mean</th>\n",
              "      <td>50.452584</td>\n",
              "    </tr>\n",
              "    <tr>\n",
              "      <th>std</th>\n",
              "      <td>59.116494</td>\n",
              "    </tr>\n",
              "    <tr>\n",
              "      <th>min</th>\n",
              "      <td>1.000000</td>\n",
              "    </tr>\n",
              "    <tr>\n",
              "      <th>25%</th>\n",
              "      <td>23.000000</td>\n",
              "    </tr>\n",
              "    <tr>\n",
              "      <th>50%</th>\n",
              "      <td>33.000000</td>\n",
              "    </tr>\n",
              "    <tr>\n",
              "      <th>75%</th>\n",
              "      <td>55.000000</td>\n",
              "    </tr>\n",
              "    <tr>\n",
              "      <th>max</th>\n",
              "      <td>1554.000000</td>\n",
              "    </tr>\n",
              "  </tbody>\n",
              "</table>\n",
              "</div><br><label><b>dtype:</b> float64</label>"
            ]
          },
          "metadata": {},
          "execution_count": 24
        }
      ]
    },
    {
      "cell_type": "code",
      "source": [
        "# Check for duplicates\n",
        "df['reviewText'].duplicated().sum()"
      ],
      "metadata": {
        "colab": {
          "base_uri": "https://localhost:8080/"
        },
        "id": "DY1SIPWvhY5w",
        "outputId": "25f23bbe-2af9-43c9-cb0d-8ff0ab6ac0c0"
      },
      "execution_count": null,
      "outputs": [
        {
          "output_type": "execute_result",
          "data": {
            "text/plain": [
              "2"
            ]
          },
          "metadata": {},
          "execution_count": 25
        }
      ]
    },
    {
      "cell_type": "code",
      "source": [
        "# Remove duplicates\n",
        "df = df.drop_duplicates(subset=['reviewText'])\n",
        "\n",
        "# Check for duplicates\n",
        "df['reviewText'].duplicated().sum()"
      ],
      "metadata": {
        "colab": {
          "base_uri": "https://localhost:8080/"
        },
        "id": "lBUVu7lJhiQw",
        "outputId": "4f4ad18e-0f32-4fc1-8490-49736f624e0a"
      },
      "execution_count": null,
      "outputs": [
        {
          "output_type": "execute_result",
          "data": {
            "text/plain": [
              "0"
            ]
          },
          "metadata": {},
          "execution_count": 26
        }
      ]
    },
    {
      "cell_type": "code",
      "source": [
        "# Check for special characters in text - HTML might confuse the model\n",
        "import re\n",
        "\n",
        "def clean_text(text):\n",
        "    # Remove HTML tags\n",
        "    text = re.sub(r'<.*?>', '', text)\n",
        "    return text\n",
        "\n",
        "df['reviewText'] = df['reviewText'].apply(clean_text)\n"
      ],
      "metadata": {
        "id": "tXZCXlh7hnry"
      },
      "execution_count": null,
      "outputs": []
    },
    {
      "cell_type": "code",
      "source": [
        "df.head()"
      ],
      "metadata": {
        "colab": {
          "base_uri": "https://localhost:8080/",
          "height": 206
        },
        "id": "N8EpoVmViiQ9",
        "outputId": "9f1660f9-9517-4885-d1fa-dea7abb747dc"
      },
      "execution_count": null,
      "outputs": [
        {
          "output_type": "execute_result",
          "data": {
            "text/plain": [
              "                                          reviewText  overall\n",
              "0                                         No issues.      4.0\n",
              "1  Purchased this for my device, it worked as adv...      5.0\n",
              "2  it works as expected. I should have sprung for...      4.0\n",
              "3  This think has worked out great.Had a diff. br...      5.0\n",
              "4  Bought it with Retail Packaging, arrived legit...      5.0"
            ],
            "text/html": [
              "\n",
              "  <div id=\"df-4fded22d-4fb9-472c-aa44-5bbf77502be9\" class=\"colab-df-container\">\n",
              "    <div>\n",
              "<style scoped>\n",
              "    .dataframe tbody tr th:only-of-type {\n",
              "        vertical-align: middle;\n",
              "    }\n",
              "\n",
              "    .dataframe tbody tr th {\n",
              "        vertical-align: top;\n",
              "    }\n",
              "\n",
              "    .dataframe thead th {\n",
              "        text-align: right;\n",
              "    }\n",
              "</style>\n",
              "<table border=\"1\" class=\"dataframe\">\n",
              "  <thead>\n",
              "    <tr style=\"text-align: right;\">\n",
              "      <th></th>\n",
              "      <th>reviewText</th>\n",
              "      <th>overall</th>\n",
              "    </tr>\n",
              "  </thead>\n",
              "  <tbody>\n",
              "    <tr>\n",
              "      <th>0</th>\n",
              "      <td>No issues.</td>\n",
              "      <td>4.0</td>\n",
              "    </tr>\n",
              "    <tr>\n",
              "      <th>1</th>\n",
              "      <td>Purchased this for my device, it worked as adv...</td>\n",
              "      <td>5.0</td>\n",
              "    </tr>\n",
              "    <tr>\n",
              "      <th>2</th>\n",
              "      <td>it works as expected. I should have sprung for...</td>\n",
              "      <td>4.0</td>\n",
              "    </tr>\n",
              "    <tr>\n",
              "      <th>3</th>\n",
              "      <td>This think has worked out great.Had a diff. br...</td>\n",
              "      <td>5.0</td>\n",
              "    </tr>\n",
              "    <tr>\n",
              "      <th>4</th>\n",
              "      <td>Bought it with Retail Packaging, arrived legit...</td>\n",
              "      <td>5.0</td>\n",
              "    </tr>\n",
              "  </tbody>\n",
              "</table>\n",
              "</div>\n",
              "    <div class=\"colab-df-buttons\">\n",
              "\n",
              "  <div class=\"colab-df-container\">\n",
              "    <button class=\"colab-df-convert\" onclick=\"convertToInteractive('df-4fded22d-4fb9-472c-aa44-5bbf77502be9')\"\n",
              "            title=\"Convert this dataframe to an interactive table.\"\n",
              "            style=\"display:none;\">\n",
              "\n",
              "  <svg xmlns=\"http://www.w3.org/2000/svg\" height=\"24px\" viewBox=\"0 -960 960 960\">\n",
              "    <path d=\"M120-120v-720h720v720H120Zm60-500h600v-160H180v160Zm220 220h160v-160H400v160Zm0 220h160v-160H400v160ZM180-400h160v-160H180v160Zm440 0h160v-160H620v160ZM180-180h160v-160H180v160Zm440 0h160v-160H620v160Z\"/>\n",
              "  </svg>\n",
              "    </button>\n",
              "\n",
              "  <style>\n",
              "    .colab-df-container {\n",
              "      display:flex;\n",
              "      gap: 12px;\n",
              "    }\n",
              "\n",
              "    .colab-df-convert {\n",
              "      background-color: #E8F0FE;\n",
              "      border: none;\n",
              "      border-radius: 50%;\n",
              "      cursor: pointer;\n",
              "      display: none;\n",
              "      fill: #1967D2;\n",
              "      height: 32px;\n",
              "      padding: 0 0 0 0;\n",
              "      width: 32px;\n",
              "    }\n",
              "\n",
              "    .colab-df-convert:hover {\n",
              "      background-color: #E2EBFA;\n",
              "      box-shadow: 0px 1px 2px rgba(60, 64, 67, 0.3), 0px 1px 3px 1px rgba(60, 64, 67, 0.15);\n",
              "      fill: #174EA6;\n",
              "    }\n",
              "\n",
              "    .colab-df-buttons div {\n",
              "      margin-bottom: 4px;\n",
              "    }\n",
              "\n",
              "    [theme=dark] .colab-df-convert {\n",
              "      background-color: #3B4455;\n",
              "      fill: #D2E3FC;\n",
              "    }\n",
              "\n",
              "    [theme=dark] .colab-df-convert:hover {\n",
              "      background-color: #434B5C;\n",
              "      box-shadow: 0px 1px 3px 1px rgba(0, 0, 0, 0.15);\n",
              "      filter: drop-shadow(0px 1px 2px rgba(0, 0, 0, 0.3));\n",
              "      fill: #FFFFFF;\n",
              "    }\n",
              "  </style>\n",
              "\n",
              "    <script>\n",
              "      const buttonEl =\n",
              "        document.querySelector('#df-4fded22d-4fb9-472c-aa44-5bbf77502be9 button.colab-df-convert');\n",
              "      buttonEl.style.display =\n",
              "        google.colab.kernel.accessAllowed ? 'block' : 'none';\n",
              "\n",
              "      async function convertToInteractive(key) {\n",
              "        const element = document.querySelector('#df-4fded22d-4fb9-472c-aa44-5bbf77502be9');\n",
              "        const dataTable =\n",
              "          await google.colab.kernel.invokeFunction('convertToInteractive',\n",
              "                                                    [key], {});\n",
              "        if (!dataTable) return;\n",
              "\n",
              "        const docLinkHtml = 'Like what you see? Visit the ' +\n",
              "          '<a target=\"_blank\" href=https://colab.research.google.com/notebooks/data_table.ipynb>data table notebook</a>'\n",
              "          + ' to learn more about interactive tables.';\n",
              "        element.innerHTML = '';\n",
              "        dataTable['output_type'] = 'display_data';\n",
              "        await google.colab.output.renderOutput(dataTable, element);\n",
              "        const docLink = document.createElement('div');\n",
              "        docLink.innerHTML = docLinkHtml;\n",
              "        element.appendChild(docLink);\n",
              "      }\n",
              "    </script>\n",
              "  </div>\n",
              "\n",
              "\n",
              "<div id=\"df-f45749dd-b3ba-47b1-ab3d-d4dc1d747e7b\">\n",
              "  <button class=\"colab-df-quickchart\" onclick=\"quickchart('df-f45749dd-b3ba-47b1-ab3d-d4dc1d747e7b')\"\n",
              "            title=\"Suggest charts\"\n",
              "            style=\"display:none;\">\n",
              "\n",
              "<svg xmlns=\"http://www.w3.org/2000/svg\" height=\"24px\"viewBox=\"0 0 24 24\"\n",
              "     width=\"24px\">\n",
              "    <g>\n",
              "        <path d=\"M19 3H5c-1.1 0-2 .9-2 2v14c0 1.1.9 2 2 2h14c1.1 0 2-.9 2-2V5c0-1.1-.9-2-2-2zM9 17H7v-7h2v7zm4 0h-2V7h2v10zm4 0h-2v-4h2v4z\"/>\n",
              "    </g>\n",
              "</svg>\n",
              "  </button>\n",
              "\n",
              "<style>\n",
              "  .colab-df-quickchart {\n",
              "      --bg-color: #E8F0FE;\n",
              "      --fill-color: #1967D2;\n",
              "      --hover-bg-color: #E2EBFA;\n",
              "      --hover-fill-color: #174EA6;\n",
              "      --disabled-fill-color: #AAA;\n",
              "      --disabled-bg-color: #DDD;\n",
              "  }\n",
              "\n",
              "  [theme=dark] .colab-df-quickchart {\n",
              "      --bg-color: #3B4455;\n",
              "      --fill-color: #D2E3FC;\n",
              "      --hover-bg-color: #434B5C;\n",
              "      --hover-fill-color: #FFFFFF;\n",
              "      --disabled-bg-color: #3B4455;\n",
              "      --disabled-fill-color: #666;\n",
              "  }\n",
              "\n",
              "  .colab-df-quickchart {\n",
              "    background-color: var(--bg-color);\n",
              "    border: none;\n",
              "    border-radius: 50%;\n",
              "    cursor: pointer;\n",
              "    display: none;\n",
              "    fill: var(--fill-color);\n",
              "    height: 32px;\n",
              "    padding: 0;\n",
              "    width: 32px;\n",
              "  }\n",
              "\n",
              "  .colab-df-quickchart:hover {\n",
              "    background-color: var(--hover-bg-color);\n",
              "    box-shadow: 0 1px 2px rgba(60, 64, 67, 0.3), 0 1px 3px 1px rgba(60, 64, 67, 0.15);\n",
              "    fill: var(--button-hover-fill-color);\n",
              "  }\n",
              "\n",
              "  .colab-df-quickchart-complete:disabled,\n",
              "  .colab-df-quickchart-complete:disabled:hover {\n",
              "    background-color: var(--disabled-bg-color);\n",
              "    fill: var(--disabled-fill-color);\n",
              "    box-shadow: none;\n",
              "  }\n",
              "\n",
              "  .colab-df-spinner {\n",
              "    border: 2px solid var(--fill-color);\n",
              "    border-color: transparent;\n",
              "    border-bottom-color: var(--fill-color);\n",
              "    animation:\n",
              "      spin 1s steps(1) infinite;\n",
              "  }\n",
              "\n",
              "  @keyframes spin {\n",
              "    0% {\n",
              "      border-color: transparent;\n",
              "      border-bottom-color: var(--fill-color);\n",
              "      border-left-color: var(--fill-color);\n",
              "    }\n",
              "    20% {\n",
              "      border-color: transparent;\n",
              "      border-left-color: var(--fill-color);\n",
              "      border-top-color: var(--fill-color);\n",
              "    }\n",
              "    30% {\n",
              "      border-color: transparent;\n",
              "      border-left-color: var(--fill-color);\n",
              "      border-top-color: var(--fill-color);\n",
              "      border-right-color: var(--fill-color);\n",
              "    }\n",
              "    40% {\n",
              "      border-color: transparent;\n",
              "      border-right-color: var(--fill-color);\n",
              "      border-top-color: var(--fill-color);\n",
              "    }\n",
              "    60% {\n",
              "      border-color: transparent;\n",
              "      border-right-color: var(--fill-color);\n",
              "    }\n",
              "    80% {\n",
              "      border-color: transparent;\n",
              "      border-right-color: var(--fill-color);\n",
              "      border-bottom-color: var(--fill-color);\n",
              "    }\n",
              "    90% {\n",
              "      border-color: transparent;\n",
              "      border-bottom-color: var(--fill-color);\n",
              "    }\n",
              "  }\n",
              "</style>\n",
              "\n",
              "  <script>\n",
              "    async function quickchart(key) {\n",
              "      const quickchartButtonEl =\n",
              "        document.querySelector('#' + key + ' button');\n",
              "      quickchartButtonEl.disabled = true;  // To prevent multiple clicks.\n",
              "      quickchartButtonEl.classList.add('colab-df-spinner');\n",
              "      try {\n",
              "        const charts = await google.colab.kernel.invokeFunction(\n",
              "            'suggestCharts', [key], {});\n",
              "      } catch (error) {\n",
              "        console.error('Error during call to suggestCharts:', error);\n",
              "      }\n",
              "      quickchartButtonEl.classList.remove('colab-df-spinner');\n",
              "      quickchartButtonEl.classList.add('colab-df-quickchart-complete');\n",
              "    }\n",
              "    (() => {\n",
              "      let quickchartButtonEl =\n",
              "        document.querySelector('#df-f45749dd-b3ba-47b1-ab3d-d4dc1d747e7b button');\n",
              "      quickchartButtonEl.style.display =\n",
              "        google.colab.kernel.accessAllowed ? 'block' : 'none';\n",
              "    })();\n",
              "  </script>\n",
              "</div>\n",
              "\n",
              "    </div>\n",
              "  </div>\n"
            ],
            "application/vnd.google.colaboratory.intrinsic+json": {
              "type": "dataframe",
              "variable_name": "df",
              "summary": "{\n  \"name\": \"df\",\n  \"rows\": 4912,\n  \"fields\": [\n    {\n      \"column\": \"reviewText\",\n      \"properties\": {\n        \"dtype\": \"string\",\n        \"num_unique_values\": 4912,\n        \"samples\": [\n          \"Bought this for extended memory in a Galaxy S III.  Great price. Easy to install and the phone recognized it instantly. Does what its supposed to do.\",\n          \"I bought this after I found out that you can add a memory card to the Samsung galaxy s4! I never even knew that you could, and so once I found out I bought this and installed it. It's worked perfectly since and holds all of my songs and videos.  Great buy!\",\n          \"Using it on a Canon 6D. No camplains at all. Really fast access. The adapter itself is not at same level, even though. Bad connection, had to use a previous adapter that I already had.\"\n        ],\n        \"semantic_type\": \"\",\n        \"description\": \"\"\n      }\n    },\n    {\n      \"column\": \"overall\",\n      \"properties\": {\n        \"dtype\": \"number\",\n        \"std\": 0.9970795771306836,\n        \"min\": 1.0,\n        \"max\": 5.0,\n        \"num_unique_values\": 5,\n        \"samples\": [\n          5.0,\n          2.0,\n          3.0\n        ],\n        \"semantic_type\": \"\",\n        \"description\": \"\"\n      }\n    }\n  ]\n}"
            }
          },
          "metadata": {},
          "execution_count": 28
        }
      ]
    },
    {
      "cell_type": "code",
      "source": [
        "df.info()"
      ],
      "metadata": {
        "colab": {
          "base_uri": "https://localhost:8080/"
        },
        "id": "bSQxm-S5D17_",
        "outputId": "185cc89b-fb0d-4248-eed8-0cccc48edd58"
      },
      "execution_count": null,
      "outputs": [
        {
          "output_type": "stream",
          "name": "stdout",
          "text": [
            "<class 'pandas.core.frame.DataFrame'>\n",
            "Index: 4912 entries, 0 to 4914\n",
            "Data columns (total 2 columns):\n",
            " #   Column      Non-Null Count  Dtype  \n",
            "---  ------      --------------  -----  \n",
            " 0   reviewText  4912 non-null   object \n",
            " 1   overall     4912 non-null   float64\n",
            "dtypes: float64(1), object(1)\n",
            "memory usage: 115.1+ KB\n"
          ]
        }
      ]
    },
    {
      "cell_type": "markdown",
      "source": [
        "**Visualize Distribution of Numerical Reviews**\n",
        "* Use a histogram to visualize count of reviews per score."
      ],
      "metadata": {
        "id": "sqQ8BeR_ijof"
      }
    },
    {
      "cell_type": "code",
      "source": [
        "# Set the style of seaborn plots\n",
        "sns.set(style=\"whitegrid\")\n",
        "\n",
        "# Plot the distribution of 'overall' ratings\n",
        "plt.figure(figsize=(8, 4))\n",
        "sns.histplot(df['overall'], bins=5, kde=True)\n",
        "\n",
        "# Set labels and title\n",
        "plt.xlabel('Overall Rating')\n",
        "plt.ylabel('Frequency')\n",
        "plt.title('Distribution of Overall Ratings')\n",
        "plt.show()"
      ],
      "metadata": {
        "colab": {
          "base_uri": "https://localhost:8080/",
          "height": 419
        },
        "id": "-OMpTK-4iyd-",
        "outputId": "1cc5c279-b4e9-41c1-b102-86e02b5df415"
      },
      "execution_count": null,
      "outputs": [
        {
          "output_type": "display_data",
          "data": {
            "text/plain": [
              "<Figure size 800x400 with 1 Axes>"
            ],
            "image/png": "[encoded data removed]"
          },
          "metadata": {}
        }
      ]
    },
    {
      "cell_type": "markdown",
      "source": [
        "### 3. Define the Model and Tokenizer\n",
        "* Load the pre-trained transformer model.\n",
        "* Load the pre-trained tokenizer to prepare data for the model.\n"
      ],
      "metadata": {
        "id": "tOu992O5jX5g"
      }
    },
    {
      "cell_type": "markdown",
      "source": [
        "**Load the Pre-trained Model**\n",
        "* This is a snapshot of a model that is fine-tuned for binary sentence classification."
      ],
      "metadata": {
        "id": "Bugm186_I4cq"
      }
    },
    {
      "cell_type": "code",
      "source": [
        "# Define a fine-tuned version of DistilBERT as the model for inference\n",
        "model_name = 'distilbert/distilbert-base-uncased-finetuned-sst-2-english'"
      ],
      "metadata": {
        "id": "Y-lkfmUnJLzX"
      },
      "execution_count": null,
      "outputs": []
    },
    {
      "cell_type": "code",
      "source": [
        "# Load the fine-tuned DistilBERT model for sentence classification\n",
        "model = DistilBertForSequenceClassification.from_pretrained(model_name)"
      ],
      "metadata": {
        "id": "3d7TnQERHsn1",
        "colab": {
          "base_uri": "https://localhost:8080/",
          "height": 191,
          "referenced_widgets": [
            "fa9fd10435df494cbd3018abf816baeb",
            "06753eee928949d68abee335161b5f5e",
            "6b38b7d096ee4a05b796bf9c1aae0761",
            "4c490a77cd5f4494ba75f93a78f57bb0",
            "2a56c3a852fb4a598e06515a1fe3b6d0",
            "003e567ab3dc498ea8ed48499bf41c9e",
            "c893456ac08e41b2b1baa8df9a47a1c0",
            "24f31de9bb9d499abd7a60b9275ced33",
            "b3613cf3232743c4b6f15f32ab166542",
            "a4bc64dbf90443be8226e16ae74d6906",
            "845aee96177247739da6ce0a7f1c097e",
            "3f7f8de5c411487bb0a5f4fba45afcd8",
            "ae9a78d12b3343a4864ad05cf0a05ca6",
            "2bfb160fd51143d48bac619d40fbbfa3",
            "ad540ed816694f7eab4ac58db1605f5f",
            "eae843c5ec5e4f6e9e63978b00c4838b",
            "964f5690dfc8417b94f4344fd2f26d2f",
            "10dee8db39734d65958eb445b9e128f5",
            "5e30a9d16b1345d6a8aee256269dfed1",
            "ab362d6970584f229a2b3f905030b375",
            "f65c8961abef4bffb2845d2bd681f7d1",
            "cd9d84ff9aa54c91bee0d3bdfd87a3d5"
          ]
        },
        "outputId": "8ae0b15c-8100-4169-9942-bfc128743dde"
      },
      "execution_count": null,
      "outputs": [
        {
          "output_type": "stream",
          "name": "stderr",
          "text": [
            "/usr/local/lib/python3.10/dist-packages/huggingface_hub/utils/_auth.py:94: UserWarning: \n",
            "The secret `HF_TOKEN` does not exist in your Colab secrets.\n",
            "To authenticate with the Hugging Face Hub, create a token in your settings tab (https://huggingface.co/settings/tokens), set it as secret in your Google Colab and restart your session.\n",
            "You will be able to reuse this secret in all of your notebooks.\n",
            "Please note that authentication is recommended but still optional to access public models or datasets.\n",
            "  warnings.warn(\n"
          ]
        },
        {
          "output_type": "display_data",
          "data": {
            "text/plain": [
              "config.json:   0%|          | 0.00/629 [00:00<?, ?B/s]"
            ],
            "application/vnd.jupyter.widget-view+json": {
              "version_major": 2,
              "version_minor": 0,
              "model_id": "fa9fd10435df494cbd3018abf816baeb"
            }
          },
          "metadata": {}
        },
        {
          "output_type": "display_data",
          "data": {
            "text/plain": [
              "model.safetensors:   0%|          | 0.00/268M [00:00<?, ?B/s]"
            ],
            "application/vnd.jupyter.widget-view+json": {
              "version_major": 2,
              "version_minor": 0,
              "model_id": "3f7f8de5c411487bb0a5f4fba45afcd8"
            }
          },
          "metadata": {}
        }
      ]
    },
    {
      "cell_type": "markdown",
      "source": [
        "**Move the Model to the GPU**"
      ],
      "metadata": {
        "id": "O4paJiSSH_f6"
      }
    },
    {
      "cell_type": "code",
      "source": [
        "# Check if GPU is available\n",
        "if torch.cuda.is_available():\n",
        "    print(\"GPU is available\")\n",
        "    print(f\"Device name: {torch.cuda.get_device_name(0)}\")\n",
        "else:\n",
        "    print(\"GPU is NOT available\")"
      ],
      "metadata": {
        "colab": {
          "base_uri": "https://localhost:8080/"
        },
        "id": "JbrVUxZMIEp8",
        "outputId": "b616e11b-130b-4b1e-8c78-8d4a48038ae0"
      },
      "execution_count": null,
      "outputs": [
        {
          "output_type": "stream",
          "name": "stdout",
          "text": [
            "GPU is available\n",
            "Device name: Tesla T4\n"
          ]
        }
      ]
    },
    {
      "cell_type": "code",
      "source": [
        "# Define the device as GPU if available, otherwise use CPU\n",
        "device = torch.device('cuda' if torch.cuda.is_available() else 'cpu')"
      ],
      "metadata": {
        "id": "V4LlxJc6IPrX"
      },
      "execution_count": null,
      "outputs": []
    },
    {
      "cell_type": "code",
      "source": [
        "# Load the model to GPU - all model calls will be exectuted on the GPU\n",
        "model.to(device)\n",
        "\n",
        "# Set the model to inference (evaluation) mode for accurate prediction results\n",
        "model.eval()"
      ],
      "metadata": {
        "colab": {
          "base_uri": "https://localhost:8080/"
        },
        "id": "K7dXo4UnIk8W",
        "outputId": "e78ed1f5-dbeb-4dd7-926f-f806f11e85d7"
      },
      "execution_count": null,
      "outputs": [
        {
          "output_type": "execute_result",
          "data": {
            "text/plain": [
              "DistilBertForSequenceClassification(\n",
              "  (distilbert): DistilBertModel(\n",
              "    (embeddings): Embeddings(\n",
              "      (word_embeddings): Embedding(30522, 768, padding_idx=0)\n",
              "      (position_embeddings): Embedding(512, 768)\n",
              "      (LayerNorm): LayerNorm((768,), eps=1e-12, elementwise_affine=True)\n",
              "      (dropout): Dropout(p=0.1, inplace=False)\n",
              "    )\n",
              "    (transformer): Transformer(\n",
              "      (layer): ModuleList(\n",
              "        (0-5): 6 x TransformerBlock(\n",
              "          (attention): DistilBertSdpaAttention(\n",
              "            (dropout): Dropout(p=0.1, inplace=False)\n",
              "            (q_lin): Linear(in_features=768, out_features=768, bias=True)\n",
              "            (k_lin): Linear(in_features=768, out_features=768, bias=True)\n",
              "            (v_lin): Linear(in_features=768, out_features=768, bias=True)\n",
              "            (out_lin): Linear(in_features=768, out_features=768, bias=True)\n",
              "          )\n",
              "          (sa_layer_norm): LayerNorm((768,), eps=1e-12, elementwise_affine=True)\n",
              "          (ffn): FFN(\n",
              "            (dropout): Dropout(p=0.1, inplace=False)\n",
              "            (lin1): Linear(in_features=768, out_features=3072, bias=True)\n",
              "            (lin2): Linear(in_features=3072, out_features=768, bias=True)\n",
              "            (activation): GELUActivation()\n",
              "          )\n",
              "          (output_layer_norm): LayerNorm((768,), eps=1e-12, elementwise_affine=True)\n",
              "        )\n",
              "      )\n",
              "    )\n",
              "  )\n",
              "  (pre_classifier): Linear(in_features=768, out_features=768, bias=True)\n",
              "  (classifier): Linear(in_features=768, out_features=2, bias=True)\n",
              "  (dropout): Dropout(p=0.2, inplace=False)\n",
              ")"
            ]
          },
          "metadata": {},
          "execution_count": 35
        }
      ]
    },
    {
      "cell_type": "markdown",
      "source": [
        "**Load the Pre-trained Tokenizer**\n",
        "* This is a model converting input text-data into a tensor representation that the model can work with."
      ],
      "metadata": {
        "id": "Fgw77MbpJFMH"
      }
    },
    {
      "cell_type": "code",
      "source": [
        "# Load the pre-trained tokenizer for DistilBERT\n",
        "tokenizer = DistilBertTokenizer.from_pretrained(model_name)"
      ],
      "metadata": {
        "id": "b_HzBxi1k_7h",
        "colab": {
          "base_uri": "https://localhost:8080/",
          "height": 81,
          "referenced_widgets": [
            "540d51e7e4374e00bc5c93147b5fd1d0",
            "12e94c538b3c4dc488ff4fdf9934f911",
            "ce5b17ea2873442a985b974d2ec1ee83",
            "98b35578b0784fb39f3f564509bf692b",
            "689e4b509252470a9615c0dcb45757be",
            "a6f5cb6269ed4ceea6cd9096845e67fc",
            "74b1cc18ecc245f1873444a8002e3016",
            "6b62379ada544ac49866e279d4016b8d",
            "64d328ca1073425baabcf0718909c98f",
            "e883ebd26bce409e8758c51e64257a0d",
            "fc33f98f81da4e9f8e5a50ae59039396",
            "ca0a205f5aba4beb8934a9ebdaaefc53",
            "465aef376ae54f659544e3f8f10b1e5b",
            "7e067bc22176480ebda1b6962bbc0628",
            "f332225c29d74a059e6e77b6ca935bf7",
            "03dc13c58f054c0fa5d00019edcd4d5d",
            "cbfd5a2144be429495d71fb6641aa8f9",
            "090cbba12c9d44688d2defc8f7c0e9dc",
            "d753c93eda8a43578c6517bbaa66686c",
            "a5299b7ffcfc4cbea7da8cca58dd8568",
            "7a1a61b0e4fb49479bbc7176d1cb99d8",
            "6fa012d5122b4f32aa54776f9e11c1e5"
          ]
        },
        "outputId": "6cee0da3-7179-4646-c454-3488c5315a5e"
      },
      "execution_count": null,
      "outputs": [
        {
          "output_type": "display_data",
          "data": {
            "text/plain": [
              "tokenizer_config.json:   0%|          | 0.00/48.0 [00:00<?, ?B/s]"
            ],
            "application/vnd.jupyter.widget-view+json": {
              "version_major": 2,
              "version_minor": 0,
              "model_id": "540d51e7e4374e00bc5c93147b5fd1d0"
            }
          },
          "metadata": {}
        },
        {
          "output_type": "display_data",
          "data": {
            "text/plain": [
              "vocab.txt:   0%|          | 0.00/232k [00:00<?, ?B/s]"
            ],
            "application/vnd.jupyter.widget-view+json": {
              "version_major": 2,
              "version_minor": 0,
              "model_id": "ca0a205f5aba4beb8934a9ebdaaefc53"
            }
          },
          "metadata": {}
        }
      ]
    },
    {
      "cell_type": "markdown",
      "source": [
        "### 4. Split Data into Batches\n",
        "* This improves efficiency of processing and reduces memory usage.\n",
        "* Since the model data (here huge) and the input data need to fit on the GPU during inference, the input data needs to be split into batches.\n",
        "* This fits only some data rather than all on memory at a time."
      ],
      "metadata": {
        "id": "MWJELBJaG7zf"
      }
    },
    {
      "cell_type": "code",
      "source": [
        "# Convert text column of dataframe into a list of texts\n",
        "reviews = df['reviewText'].tolist()"
      ],
      "metadata": {
        "id": "k362xAuoJcxp"
      },
      "execution_count": null,
      "outputs": []
    },
    {
      "cell_type": "code",
      "source": [
        "# Define batch size\n",
        "batch_size = 32 # Start with a small batch size"
      ],
      "metadata": {
        "id": "c5xmHL7_JxBu"
      },
      "execution_count": null,
      "outputs": []
    },
    {
      "cell_type": "code",
      "source": [
        "num_batches = len(reviews) // batch_size + (1 if len(reviews) % batch_size != 0 else 0)\n",
        "num_batches"
      ],
      "metadata": {
        "colab": {
          "base_uri": "https://localhost:8080/"
        },
        "id": "TDLAeOPiKh4D",
        "outputId": "baad8daa-d307-4e4d-a532-b957f765e38d"
      },
      "execution_count": null,
      "outputs": [
        {
          "output_type": "execute_result",
          "data": {
            "text/plain": [
              "154"
            ]
          },
          "metadata": {},
          "execution_count": 39
        }
      ]
    },
    {
      "cell_type": "markdown",
      "source": [
        "### 5. Tokenize and Process Data in Batches\n",
        "* Tokenize data in batches.\n",
        "* Move the tokenized batches to the GPU.\n",
        "* Pass the tokenized input tensors to the model for inference.\n",
        "* Store the raw prediction output and apply a normalization.\n",
        "* Store thefinal predictions."
      ],
      "metadata": {
        "id": "aZZUj7FQNkmi"
      }
    },
    {
      "cell_type": "code",
      "source": [
        "# Set up logging\n",
        "import logging\n",
        "logging.basicConfig(level=logging.INFO, force=True)\n",
        "\n",
        "# Test if logging works in the notebook\n",
        "logging.info(\"Logging test\")"
      ],
      "metadata": {
        "colab": {
          "base_uri": "https://localhost:8080/"
        },
        "id": "OP7-5zWxY_ua",
        "outputId": "13fc17a7-b7e8-486c-b57e-05abad3fd38a"
      },
      "execution_count": null,
      "outputs": [
        {
          "output_type": "stream",
          "name": "stderr",
          "text": [
            "INFO:root:Logging test\n"
          ]
        }
      ]
    },
    {
      "cell_type": "code",
      "source": [
        "# Initialize list to store predictions in\n",
        "all_predictions = []\n",
        "\n",
        "# Loop over each batch of the reviews\n",
        "for batch in range(num_batches):\n",
        "  # Get the current batch\n",
        "  start_idx = batch * batch_size\n",
        "  end_idx = (batch + 1) * batch_size\n",
        "  batch_reviews = reviews[start_idx:end_idx]\n",
        "\n",
        "  # Log the current batch index and size\n",
        "  logging.info(f\"Processing batch {batch + 1}/{num_batches}, Number of reviews in this batch: {len(batch_reviews)}\")\n",
        "\n",
        "  # Check if the batch is empty\n",
        "  if len(batch_reviews) == 0:\n",
        "      logging.warning(f\"Skipping empty batch {batch + 1}\")\n",
        "      continue\n",
        "\n",
        "  # Tokenize the current batch\n",
        "  try:\n",
        "      tokenized_data = tokenizer(\n",
        "          batch_reviews,  # Pass only the current batch to the tokenizer\n",
        "          padding=True,  # Add padding tokens to short texts\n",
        "          truncation=True,\n",
        "          return_tensors='pt'  # Return PyTorch tensors\n",
        "      )\n",
        "  except Exception as e:\n",
        "      logging.error(f\"Error during tokenization: {e}\")\n",
        "      continue  # Skip the current batch if an error occurs\n",
        "  # Move tokenized data to the GPU\n",
        "  input_ids = tokenized_data['input_ids'].to(device)\n",
        "  attention_mask = tokenized_data['attention_mask'].to(device)\n",
        "\n",
        "  # Log the shape of the input tensors\n",
        "  logging.info(f\"Batch {batch + 1}: Input IDs shape: {input_ids.shape}, Attention Mask shape: {attention_mask.shape}\")\n",
        "\n",
        "  # Perform inference with the model\n",
        "  with torch.no_grad():  # Disable gradients for inference (saves memory)\n",
        "      outputs = model(input_ids=input_ids, attention_mask=attention_mask)\n",
        "      logits = outputs.logits # Raw model outputs\n",
        "\n",
        "  # Apply the argmax function to return the class with the highest value\n",
        "  predicted_classes = torch.argmax(logits, dim=1)\n",
        "\n",
        "  # Move the predicted classes to the CPU to save GPU memory\n",
        "  predicted_classes = predicted_classes.cpu().numpy()\n",
        "\n",
        "  # Append the predictions for this batch to the overall list\n",
        "  all_predictions.extend(predicted_classes)\n",
        "\n",
        "# Log after processing all batches\n",
        "logging.info(\"All batches processed successfully.\")\n"
      ],
      "metadata": {
        "id": "6Xv5CObqOuRA",
        "colab": {
          "base_uri": "https://localhost:8080/"
        },
        "outputId": "6fa94573-33eb-4906-b362-edc220baeb6d",
        "collapsed": true
      },
      "execution_count": null,
      "outputs": [
        {
          "output_type": "stream",
          "name": "stderr",
          "text": [
            "INFO:root:Processing batch 1/154, Number of reviews in this batch: 32\n",
            "INFO:root:Batch 1: Input IDs shape: torch.Size([32, 290]), Attention Mask shape: torch.Size([32, 290])\n",
            "INFO:root:Processing batch 2/154, Number of reviews in this batch: 32\n",
            "INFO:root:Batch 2: Input IDs shape: torch.Size([32, 241]), Attention Mask shape: torch.Size([32, 241])\n",
            "INFO:root:Processing batch 3/154, Number of reviews in this batch: 32\n",
            "INFO:root:Batch 3: Input IDs shape: torch.Size([32, 512]), Attention Mask shape: torch.Size([32, 512])\n",
            "INFO:root:Processing batch 4/154, Number of reviews in this batch: 32\n",
            "INFO:root:Batch 4: Input IDs shape: torch.Size([32, 512]), Attention Mask shape: torch.Size([32, 512])\n",
            "INFO:root:Processing batch 5/154, Number of reviews in this batch: 32\n",
            "INFO:root:Batch 5: Input IDs shape: torch.Size([32, 216]), Attention Mask shape: torch.Size([32, 216])\n",
            "INFO:root:Processing batch 6/154, Number of reviews in this batch: 32\n",
            "INFO:root:Batch 6: Input IDs shape: torch.Size([32, 344]), Attention Mask shape: torch.Size([32, 344])\n",
            "INFO:root:Processing batch 7/154, Number of reviews in this batch: 32\n",
            "INFO:root:Batch 7: Input IDs shape: torch.Size([32, 366]), Attention Mask shape: torch.Size([32, 366])\n",
            "INFO:root:Processing batch 8/154, Number of reviews in this batch: 32\n",
            "INFO:root:Batch 8: Input IDs shape: torch.Size([32, 297]), Attention Mask shape: torch.Size([32, 297])\n",
            "INFO:root:Processing batch 9/154, Number of reviews in this batch: 32\n",
            "INFO:root:Batch 9: Input IDs shape: torch.Size([32, 187]), Attention Mask shape: torch.Size([32, 187])\n",
            "INFO:root:Processing batch 10/154, Number of reviews in this batch: 32\n",
            "INFO:root:Batch 10: Input IDs shape: torch.Size([32, 306]), Attention Mask shape: torch.Size([32, 306])\n",
            "INFO:root:Processing batch 11/154, Number of reviews in this batch: 32\n",
            "INFO:root:Batch 11: Input IDs shape: torch.Size([32, 221]), Attention Mask shape: torch.Size([32, 221])\n",
            "INFO:root:Processing batch 12/154, Number of reviews in this batch: 32\n",
            "INFO:root:Batch 12: Input IDs shape: torch.Size([32, 430]), Attention Mask shape: torch.Size([32, 430])\n",
            "INFO:root:Processing batch 13/154, Number of reviews in this batch: 32\n",
            "INFO:root:Batch 13: Input IDs shape: torch.Size([32, 199]), Attention Mask shape: torch.Size([32, 199])\n",
            "INFO:root:Processing batch 14/154, Number of reviews in this batch: 32\n",
            "INFO:root:Batch 14: Input IDs shape: torch.Size([32, 381]), Attention Mask shape: torch.Size([32, 381])\n",
            "INFO:root:Processing batch 15/154, Number of reviews in this batch: 32\n",
            "INFO:root:Batch 15: Input IDs shape: torch.Size([32, 149]), Attention Mask shape: torch.Size([32, 149])\n",
            "INFO:root:Processing batch 16/154, Number of reviews in this batch: 32\n",
            "INFO:root:Batch 16: Input IDs shape: torch.Size([32, 161]), Attention Mask shape: torch.Size([32, 161])\n",
            "INFO:root:Processing batch 17/154, Number of reviews in this batch: 32\n",
            "INFO:root:Batch 17: Input IDs shape: torch.Size([32, 194]), Attention Mask shape: torch.Size([32, 194])\n",
            "INFO:root:Processing batch 18/154, Number of reviews in this batch: 32\n",
            "INFO:root:Batch 18: Input IDs shape: torch.Size([32, 305]), Attention Mask shape: torch.Size([32, 305])\n",
            "INFO:root:Processing batch 19/154, Number of reviews in this batch: 32\n",
            "INFO:root:Batch 19: Input IDs shape: torch.Size([32, 160]), Attention Mask shape: torch.Size([32, 160])\n",
            "INFO:root:Processing batch 20/154, Number of reviews in this batch: 32\n",
            "INFO:root:Batch 20: Input IDs shape: torch.Size([32, 454]), Attention Mask shape: torch.Size([32, 454])\n",
            "INFO:root:Processing batch 21/154, Number of reviews in this batch: 32\n",
            "INFO:root:Batch 21: Input IDs shape: torch.Size([32, 362]), Attention Mask shape: torch.Size([32, 362])\n",
            "INFO:root:Processing batch 22/154, Number of reviews in this batch: 32\n",
            "INFO:root:Batch 22: Input IDs shape: torch.Size([32, 187]), Attention Mask shape: torch.Size([32, 187])\n",
            "INFO:root:Processing batch 23/154, Number of reviews in this batch: 32\n",
            "INFO:root:Batch 23: Input IDs shape: torch.Size([32, 512]), Attention Mask shape: torch.Size([32, 512])\n",
            "INFO:root:Processing batch 24/154, Number of reviews in this batch: 32\n",
            "INFO:root:Batch 24: Input IDs shape: torch.Size([32, 216]), Attention Mask shape: torch.Size([32, 216])\n",
            "INFO:root:Processing batch 25/154, Number of reviews in this batch: 32\n",
            "INFO:root:Batch 25: Input IDs shape: torch.Size([32, 194]), Attention Mask shape: torch.Size([32, 194])\n",
            "INFO:root:Processing batch 26/154, Number of reviews in this batch: 32\n",
            "INFO:root:Batch 26: Input IDs shape: torch.Size([32, 284]), Attention Mask shape: torch.Size([32, 284])\n",
            "INFO:root:Processing batch 27/154, Number of reviews in this batch: 32\n",
            "INFO:root:Batch 27: Input IDs shape: torch.Size([32, 339]), Attention Mask shape: torch.Size([32, 339])\n",
            "INFO:root:Processing batch 28/154, Number of reviews in this batch: 32\n",
            "INFO:root:Batch 28: Input IDs shape: torch.Size([32, 237]), Attention Mask shape: torch.Size([32, 237])\n",
            "INFO:root:Processing batch 29/154, Number of reviews in this batch: 32\n",
            "INFO:root:Batch 29: Input IDs shape: torch.Size([32, 243]), Attention Mask shape: torch.Size([32, 243])\n",
            "INFO:root:Processing batch 30/154, Number of reviews in this batch: 32\n",
            "INFO:root:Batch 30: Input IDs shape: torch.Size([32, 231]), Attention Mask shape: torch.Size([32, 231])\n",
            "INFO:root:Processing batch 31/154, Number of reviews in this batch: 32\n",
            "INFO:root:Batch 31: Input IDs shape: torch.Size([32, 455]), Attention Mask shape: torch.Size([32, 455])\n",
            "INFO:root:Processing batch 32/154, Number of reviews in this batch: 32\n",
            "INFO:root:Batch 32: Input IDs shape: torch.Size([32, 203]), Attention Mask shape: torch.Size([32, 203])\n",
            "INFO:root:Processing batch 33/154, Number of reviews in this batch: 32\n",
            "INFO:root:Batch 33: Input IDs shape: torch.Size([32, 474]), Attention Mask shape: torch.Size([32, 474])\n",
            "INFO:root:Processing batch 34/154, Number of reviews in this batch: 32\n",
            "INFO:root:Batch 34: Input IDs shape: torch.Size([32, 89]), Attention Mask shape: torch.Size([32, 89])\n",
            "INFO:root:Processing batch 35/154, Number of reviews in this batch: 32\n",
            "INFO:root:Batch 35: Input IDs shape: torch.Size([32, 354]), Attention Mask shape: torch.Size([32, 354])\n",
            "INFO:root:Processing batch 36/154, Number of reviews in this batch: 32\n",
            "INFO:root:Batch 36: Input IDs shape: torch.Size([32, 180]), Attention Mask shape: torch.Size([32, 180])\n",
            "INFO:root:Processing batch 37/154, Number of reviews in this batch: 32\n",
            "INFO:root:Batch 37: Input IDs shape: torch.Size([32, 390]), Attention Mask shape: torch.Size([32, 390])\n",
            "INFO:root:Processing batch 38/154, Number of reviews in this batch: 32\n",
            "INFO:root:Batch 38: Input IDs shape: torch.Size([32, 273]), Attention Mask shape: torch.Size([32, 273])\n",
            "INFO:root:Processing batch 39/154, Number of reviews in this batch: 32\n",
            "INFO:root:Batch 39: Input IDs shape: torch.Size([32, 248]), Attention Mask shape: torch.Size([32, 248])\n",
            "INFO:root:Processing batch 40/154, Number of reviews in this batch: 32\n",
            "INFO:root:Batch 40: Input IDs shape: torch.Size([32, 222]), Attention Mask shape: torch.Size([32, 222])\n",
            "INFO:root:Processing batch 41/154, Number of reviews in this batch: 32\n",
            "INFO:root:Batch 41: Input IDs shape: torch.Size([32, 219]), Attention Mask shape: torch.Size([32, 219])\n",
            "INFO:root:Processing batch 42/154, Number of reviews in this batch: 32\n",
            "INFO:root:Batch 42: Input IDs shape: torch.Size([32, 227]), Attention Mask shape: torch.Size([32, 227])\n",
            "INFO:root:Processing batch 43/154, Number of reviews in this batch: 32\n",
            "INFO:root:Batch 43: Input IDs shape: torch.Size([32, 168]), Attention Mask shape: torch.Size([32, 168])\n",
            "INFO:root:Processing batch 44/154, Number of reviews in this batch: 32\n",
            "INFO:root:Batch 44: Input IDs shape: torch.Size([32, 512]), Attention Mask shape: torch.Size([32, 512])\n",
            "INFO:root:Processing batch 45/154, Number of reviews in this batch: 32\n",
            "INFO:root:Batch 45: Input IDs shape: torch.Size([32, 156]), Attention Mask shape: torch.Size([32, 156])\n",
            "INFO:root:Processing batch 46/154, Number of reviews in this batch: 32\n",
            "INFO:root:Batch 46: Input IDs shape: torch.Size([32, 288]), Attention Mask shape: torch.Size([32, 288])\n",
            "INFO:root:Processing batch 47/154, Number of reviews in this batch: 32\n",
            "INFO:root:Batch 47: Input IDs shape: torch.Size([32, 173]), Attention Mask shape: torch.Size([32, 173])\n",
            "INFO:root:Processing batch 48/154, Number of reviews in this batch: 32\n",
            "INFO:root:Batch 48: Input IDs shape: torch.Size([32, 118]), Attention Mask shape: torch.Size([32, 118])\n",
            "INFO:root:Processing batch 49/154, Number of reviews in this batch: 32\n",
            "INFO:root:Batch 49: Input IDs shape: torch.Size([32, 144]), Attention Mask shape: torch.Size([32, 144])\n",
            "INFO:root:Processing batch 50/154, Number of reviews in this batch: 32\n",
            "INFO:root:Batch 50: Input IDs shape: torch.Size([32, 369]), Attention Mask shape: torch.Size([32, 369])\n",
            "INFO:root:Processing batch 51/154, Number of reviews in this batch: 32\n",
            "INFO:root:Batch 51: Input IDs shape: torch.Size([32, 221]), Attention Mask shape: torch.Size([32, 221])\n",
            "INFO:root:Processing batch 52/154, Number of reviews in this batch: 32\n",
            "INFO:root:Batch 52: Input IDs shape: torch.Size([32, 204]), Attention Mask shape: torch.Size([32, 204])\n",
            "INFO:root:Processing batch 53/154, Number of reviews in this batch: 32\n",
            "INFO:root:Batch 53: Input IDs shape: torch.Size([32, 423]), Attention Mask shape: torch.Size([32, 423])\n",
            "INFO:root:Processing batch 54/154, Number of reviews in this batch: 32\n",
            "INFO:root:Batch 54: Input IDs shape: torch.Size([32, 128]), Attention Mask shape: torch.Size([32, 128])\n",
            "INFO:root:Processing batch 55/154, Number of reviews in this batch: 32\n",
            "INFO:root:Batch 55: Input IDs shape: torch.Size([32, 255]), Attention Mask shape: torch.Size([32, 255])\n",
            "INFO:root:Processing batch 56/154, Number of reviews in this batch: 32\n",
            "INFO:root:Batch 56: Input IDs shape: torch.Size([32, 482]), Attention Mask shape: torch.Size([32, 482])\n",
            "INFO:root:Processing batch 57/154, Number of reviews in this batch: 32\n",
            "INFO:root:Batch 57: Input IDs shape: torch.Size([32, 132]), Attention Mask shape: torch.Size([32, 132])\n",
            "INFO:root:Processing batch 58/154, Number of reviews in this batch: 32\n",
            "INFO:root:Batch 58: Input IDs shape: torch.Size([32, 231]), Attention Mask shape: torch.Size([32, 231])\n",
            "INFO:root:Processing batch 59/154, Number of reviews in this batch: 32\n",
            "INFO:root:Batch 59: Input IDs shape: torch.Size([32, 221]), Attention Mask shape: torch.Size([32, 221])\n",
            "INFO:root:Processing batch 60/154, Number of reviews in this batch: 32\n",
            "INFO:root:Batch 60: Input IDs shape: torch.Size([32, 287]), Attention Mask shape: torch.Size([32, 287])\n",
            "INFO:root:Processing batch 61/154, Number of reviews in this batch: 32\n",
            "INFO:root:Batch 61: Input IDs shape: torch.Size([32, 119]), Attention Mask shape: torch.Size([32, 119])\n",
            "INFO:root:Processing batch 62/154, Number of reviews in this batch: 32\n",
            "INFO:root:Batch 62: Input IDs shape: torch.Size([32, 220]), Attention Mask shape: torch.Size([32, 220])\n",
            "INFO:root:Processing batch 63/154, Number of reviews in this batch: 32\n",
            "INFO:root:Batch 63: Input IDs shape: torch.Size([32, 313]), Attention Mask shape: torch.Size([32, 313])\n",
            "INFO:root:Processing batch 64/154, Number of reviews in this batch: 32\n",
            "INFO:root:Batch 64: Input IDs shape: torch.Size([32, 512]), Attention Mask shape: torch.Size([32, 512])\n",
            "INFO:root:Processing batch 65/154, Number of reviews in this batch: 32\n",
            "INFO:root:Batch 65: Input IDs shape: torch.Size([32, 142]), Attention Mask shape: torch.Size([32, 142])\n",
            "INFO:root:Processing batch 66/154, Number of reviews in this batch: 32\n",
            "INFO:root:Batch 66: Input IDs shape: torch.Size([32, 195]), Attention Mask shape: torch.Size([32, 195])\n",
            "INFO:root:Processing batch 67/154, Number of reviews in this batch: 32\n",
            "INFO:root:Batch 67: Input IDs shape: torch.Size([32, 322]), Attention Mask shape: torch.Size([32, 322])\n",
            "INFO:root:Processing batch 68/154, Number of reviews in this batch: 32\n",
            "INFO:root:Batch 68: Input IDs shape: torch.Size([32, 441]), Attention Mask shape: torch.Size([32, 441])\n",
            "INFO:root:Processing batch 69/154, Number of reviews in this batch: 32\n",
            "INFO:root:Batch 69: Input IDs shape: torch.Size([32, 133]), Attention Mask shape: torch.Size([32, 133])\n",
            "INFO:root:Processing batch 70/154, Number of reviews in this batch: 32\n",
            "INFO:root:Batch 70: Input IDs shape: torch.Size([32, 101]), Attention Mask shape: torch.Size([32, 101])\n",
            "INFO:root:Processing batch 71/154, Number of reviews in this batch: 32\n",
            "INFO:root:Batch 71: Input IDs shape: torch.Size([32, 211]), Attention Mask shape: torch.Size([32, 211])\n",
            "INFO:root:Processing batch 72/154, Number of reviews in this batch: 32\n",
            "INFO:root:Batch 72: Input IDs shape: torch.Size([32, 229]), Attention Mask shape: torch.Size([32, 229])\n",
            "INFO:root:Processing batch 73/154, Number of reviews in this batch: 32\n",
            "INFO:root:Batch 73: Input IDs shape: torch.Size([32, 246]), Attention Mask shape: torch.Size([32, 246])\n",
            "INFO:root:Processing batch 74/154, Number of reviews in this batch: 32\n",
            "INFO:root:Batch 74: Input IDs shape: torch.Size([32, 306]), Attention Mask shape: torch.Size([32, 306])\n",
            "INFO:root:Processing batch 75/154, Number of reviews in this batch: 32\n",
            "INFO:root:Batch 75: Input IDs shape: torch.Size([32, 156]), Attention Mask shape: torch.Size([32, 156])\n",
            "INFO:root:Processing batch 76/154, Number of reviews in this batch: 32\n",
            "INFO:root:Batch 76: Input IDs shape: torch.Size([32, 160]), Attention Mask shape: torch.Size([32, 160])\n",
            "INFO:root:Processing batch 77/154, Number of reviews in this batch: 32\n",
            "INFO:root:Batch 77: Input IDs shape: torch.Size([32, 166]), Attention Mask shape: torch.Size([32, 166])\n",
            "INFO:root:Processing batch 78/154, Number of reviews in this batch: 32\n",
            "INFO:root:Batch 78: Input IDs shape: torch.Size([32, 218]), Attention Mask shape: torch.Size([32, 218])\n",
            "INFO:root:Processing batch 79/154, Number of reviews in this batch: 32\n",
            "INFO:root:Batch 79: Input IDs shape: torch.Size([32, 287]), Attention Mask shape: torch.Size([32, 287])\n",
            "INFO:root:Processing batch 80/154, Number of reviews in this batch: 32\n",
            "INFO:root:Batch 80: Input IDs shape: torch.Size([32, 155]), Attention Mask shape: torch.Size([32, 155])\n",
            "INFO:root:Processing batch 81/154, Number of reviews in this batch: 32\n",
            "INFO:root:Batch 81: Input IDs shape: torch.Size([32, 429]), Attention Mask shape: torch.Size([32, 429])\n",
            "INFO:root:Processing batch 82/154, Number of reviews in this batch: 32\n",
            "INFO:root:Batch 82: Input IDs shape: torch.Size([32, 173]), Attention Mask shape: torch.Size([32, 173])\n",
            "INFO:root:Processing batch 83/154, Number of reviews in this batch: 32\n",
            "INFO:root:Batch 83: Input IDs shape: torch.Size([32, 191]), Attention Mask shape: torch.Size([32, 191])\n",
            "INFO:root:Processing batch 84/154, Number of reviews in this batch: 32\n",
            "INFO:root:Batch 84: Input IDs shape: torch.Size([32, 176]), Attention Mask shape: torch.Size([32, 176])\n",
            "INFO:root:Processing batch 85/154, Number of reviews in this batch: 32\n",
            "INFO:root:Batch 85: Input IDs shape: torch.Size([32, 173]), Attention Mask shape: torch.Size([32, 173])\n",
            "INFO:root:Processing batch 86/154, Number of reviews in this batch: 32\n",
            "INFO:root:Batch 86: Input IDs shape: torch.Size([32, 249]), Attention Mask shape: torch.Size([32, 249])\n",
            "INFO:root:Processing batch 87/154, Number of reviews in this batch: 32\n",
            "INFO:root:Batch 87: Input IDs shape: torch.Size([32, 195]), Attention Mask shape: torch.Size([32, 195])\n",
            "INFO:root:Processing batch 88/154, Number of reviews in this batch: 32\n",
            "INFO:root:Batch 88: Input IDs shape: torch.Size([32, 512]), Attention Mask shape: torch.Size([32, 512])\n",
            "INFO:root:Processing batch 89/154, Number of reviews in this batch: 32\n",
            "INFO:root:Batch 89: Input IDs shape: torch.Size([32, 185]), Attention Mask shape: torch.Size([32, 185])\n",
            "INFO:root:Processing batch 90/154, Number of reviews in this batch: 32\n",
            "INFO:root:Batch 90: Input IDs shape: torch.Size([32, 512]), Attention Mask shape: torch.Size([32, 512])\n",
            "INFO:root:Processing batch 91/154, Number of reviews in this batch: 32\n",
            "INFO:root:Batch 91: Input IDs shape: torch.Size([32, 200]), Attention Mask shape: torch.Size([32, 200])\n",
            "INFO:root:Processing batch 92/154, Number of reviews in this batch: 32\n",
            "INFO:root:Batch 92: Input IDs shape: torch.Size([32, 512]), Attention Mask shape: torch.Size([32, 512])\n",
            "INFO:root:Processing batch 93/154, Number of reviews in this batch: 32\n",
            "INFO:root:Batch 93: Input IDs shape: torch.Size([32, 391]), Attention Mask shape: torch.Size([32, 391])\n",
            "INFO:root:Processing batch 94/154, Number of reviews in this batch: 32\n",
            "INFO:root:Batch 94: Input IDs shape: torch.Size([32, 512]), Attention Mask shape: torch.Size([32, 512])\n",
            "INFO:root:Processing batch 95/154, Number of reviews in this batch: 32\n",
            "INFO:root:Batch 95: Input IDs shape: torch.Size([32, 280]), Attention Mask shape: torch.Size([32, 280])\n",
            "INFO:root:Processing batch 96/154, Number of reviews in this batch: 32\n",
            "INFO:root:Batch 96: Input IDs shape: torch.Size([32, 146]), Attention Mask shape: torch.Size([32, 146])\n",
            "INFO:root:Processing batch 97/154, Number of reviews in this batch: 32\n",
            "INFO:root:Batch 97: Input IDs shape: torch.Size([32, 289]), Attention Mask shape: torch.Size([32, 289])\n",
            "INFO:root:Processing batch 98/154, Number of reviews in this batch: 32\n",
            "INFO:root:Batch 98: Input IDs shape: torch.Size([32, 235]), Attention Mask shape: torch.Size([32, 235])\n",
            "INFO:root:Processing batch 99/154, Number of reviews in this batch: 32\n",
            "INFO:root:Batch 99: Input IDs shape: torch.Size([32, 188]), Attention Mask shape: torch.Size([32, 188])\n",
            "INFO:root:Processing batch 100/154, Number of reviews in this batch: 32\n",
            "INFO:root:Batch 100: Input IDs shape: torch.Size([32, 332]), Attention Mask shape: torch.Size([32, 332])\n",
            "INFO:root:Processing batch 101/154, Number of reviews in this batch: 32\n",
            "INFO:root:Batch 101: Input IDs shape: torch.Size([32, 344]), Attention Mask shape: torch.Size([32, 344])\n",
            "INFO:root:Processing batch 102/154, Number of reviews in this batch: 32\n",
            "INFO:root:Batch 102: Input IDs shape: torch.Size([32, 288]), Attention Mask shape: torch.Size([32, 288])\n",
            "INFO:root:Processing batch 103/154, Number of reviews in this batch: 32\n",
            "INFO:root:Batch 103: Input IDs shape: torch.Size([32, 182]), Attention Mask shape: torch.Size([32, 182])\n",
            "INFO:root:Processing batch 104/154, Number of reviews in this batch: 32\n",
            "INFO:root:Batch 104: Input IDs shape: torch.Size([32, 162]), Attention Mask shape: torch.Size([32, 162])\n",
            "INFO:root:Processing batch 105/154, Number of reviews in this batch: 32\n",
            "INFO:root:Batch 105: Input IDs shape: torch.Size([32, 512]), Attention Mask shape: torch.Size([32, 512])\n",
            "INFO:root:Processing batch 106/154, Number of reviews in this batch: 32\n",
            "INFO:root:Batch 106: Input IDs shape: torch.Size([32, 234]), Attention Mask shape: torch.Size([32, 234])\n",
            "INFO:root:Processing batch 107/154, Number of reviews in this batch: 32\n",
            "INFO:root:Batch 107: Input IDs shape: torch.Size([32, 362]), Attention Mask shape: torch.Size([32, 362])\n",
            "INFO:root:Processing batch 108/154, Number of reviews in this batch: 32\n",
            "INFO:root:Batch 108: Input IDs shape: torch.Size([32, 512]), Attention Mask shape: torch.Size([32, 512])\n",
            "INFO:root:Processing batch 109/154, Number of reviews in this batch: 32\n",
            "INFO:root:Batch 109: Input IDs shape: torch.Size([32, 273]), Attention Mask shape: torch.Size([32, 273])\n",
            "INFO:root:Processing batch 110/154, Number of reviews in this batch: 32\n",
            "INFO:root:Batch 110: Input IDs shape: torch.Size([32, 180]), Attention Mask shape: torch.Size([32, 180])\n",
            "INFO:root:Processing batch 111/154, Number of reviews in this batch: 32\n",
            "INFO:root:Batch 111: Input IDs shape: torch.Size([32, 244]), Attention Mask shape: torch.Size([32, 244])\n",
            "INFO:root:Processing batch 112/154, Number of reviews in this batch: 32\n",
            "INFO:root:Batch 112: Input IDs shape: torch.Size([32, 189]), Attention Mask shape: torch.Size([32, 189])\n",
            "INFO:root:Processing batch 113/154, Number of reviews in this batch: 32\n",
            "INFO:root:Batch 113: Input IDs shape: torch.Size([32, 260]), Attention Mask shape: torch.Size([32, 260])\n",
            "INFO:root:Processing batch 114/154, Number of reviews in this batch: 32\n",
            "INFO:root:Batch 114: Input IDs shape: torch.Size([32, 194]), Attention Mask shape: torch.Size([32, 194])\n",
            "INFO:root:Processing batch 115/154, Number of reviews in this batch: 32\n",
            "INFO:root:Batch 115: Input IDs shape: torch.Size([32, 156]), Attention Mask shape: torch.Size([32, 156])\n",
            "INFO:root:Processing batch 116/154, Number of reviews in this batch: 32\n",
            "INFO:root:Batch 116: Input IDs shape: torch.Size([32, 129]), Attention Mask shape: torch.Size([32, 129])\n",
            "INFO:root:Processing batch 117/154, Number of reviews in this batch: 32\n",
            "INFO:root:Batch 117: Input IDs shape: torch.Size([32, 311]), Attention Mask shape: torch.Size([32, 311])\n",
            "INFO:root:Processing batch 118/154, Number of reviews in this batch: 32\n",
            "INFO:root:Batch 118: Input IDs shape: torch.Size([32, 512]), Attention Mask shape: torch.Size([32, 512])\n",
            "INFO:root:Processing batch 119/154, Number of reviews in this batch: 32\n",
            "INFO:root:Batch 119: Input IDs shape: torch.Size([32, 164]), Attention Mask shape: torch.Size([32, 164])\n",
            "INFO:root:Processing batch 120/154, Number of reviews in this batch: 32\n",
            "INFO:root:Batch 120: Input IDs shape: torch.Size([32, 199]), Attention Mask shape: torch.Size([32, 199])\n",
            "INFO:root:Processing batch 121/154, Number of reviews in this batch: 32\n",
            "INFO:root:Batch 121: Input IDs shape: torch.Size([32, 138]), Attention Mask shape: torch.Size([32, 138])\n",
            "INFO:root:Processing batch 122/154, Number of reviews in this batch: 32\n",
            "INFO:root:Batch 122: Input IDs shape: torch.Size([32, 194]), Attention Mask shape: torch.Size([32, 194])\n",
            "INFO:root:Processing batch 123/154, Number of reviews in this batch: 32\n",
            "INFO:root:Batch 123: Input IDs shape: torch.Size([32, 225]), Attention Mask shape: torch.Size([32, 225])\n",
            "INFO:root:Processing batch 124/154, Number of reviews in this batch: 32\n",
            "INFO:root:Batch 124: Input IDs shape: torch.Size([32, 512]), Attention Mask shape: torch.Size([32, 512])\n",
            "INFO:root:Processing batch 125/154, Number of reviews in this batch: 32\n",
            "INFO:root:Batch 125: Input IDs shape: torch.Size([32, 183]), Attention Mask shape: torch.Size([32, 183])\n",
            "INFO:root:Processing batch 126/154, Number of reviews in this batch: 32\n",
            "INFO:root:Batch 126: Input IDs shape: torch.Size([32, 245]), Attention Mask shape: torch.Size([32, 245])\n",
            "INFO:root:Processing batch 127/154, Number of reviews in this batch: 32\n",
            "INFO:root:Batch 127: Input IDs shape: torch.Size([32, 282]), Attention Mask shape: torch.Size([32, 282])\n",
            "INFO:root:Processing batch 128/154, Number of reviews in this batch: 32\n",
            "INFO:root:Batch 128: Input IDs shape: torch.Size([32, 274]), Attention Mask shape: torch.Size([32, 274])\n",
            "INFO:root:Processing batch 129/154, Number of reviews in this batch: 32\n",
            "INFO:root:Batch 129: Input IDs shape: torch.Size([32, 133]), Attention Mask shape: torch.Size([32, 133])\n",
            "INFO:root:Processing batch 130/154, Number of reviews in this batch: 32\n",
            "INFO:root:Batch 130: Input IDs shape: torch.Size([32, 174]), Attention Mask shape: torch.Size([32, 174])\n",
            "INFO:root:Processing batch 131/154, Number of reviews in this batch: 32\n",
            "INFO:root:Batch 131: Input IDs shape: torch.Size([32, 512]), Attention Mask shape: torch.Size([32, 512])\n",
            "INFO:root:Processing batch 132/154, Number of reviews in this batch: 32\n",
            "INFO:root:Batch 132: Input IDs shape: torch.Size([32, 512]), Attention Mask shape: torch.Size([32, 512])\n",
            "INFO:root:Processing batch 133/154, Number of reviews in this batch: 32\n",
            "INFO:root:Batch 133: Input IDs shape: torch.Size([32, 351]), Attention Mask shape: torch.Size([32, 351])\n",
            "INFO:root:Processing batch 134/154, Number of reviews in this batch: 32\n",
            "INFO:root:Batch 134: Input IDs shape: torch.Size([32, 220]), Attention Mask shape: torch.Size([32, 220])\n",
            "INFO:root:Processing batch 135/154, Number of reviews in this batch: 32\n",
            "INFO:root:Batch 135: Input IDs shape: torch.Size([32, 332]), Attention Mask shape: torch.Size([32, 332])\n",
            "INFO:root:Processing batch 136/154, Number of reviews in this batch: 32\n",
            "INFO:root:Batch 136: Input IDs shape: torch.Size([32, 485]), Attention Mask shape: torch.Size([32, 485])\n",
            "INFO:root:Processing batch 137/154, Number of reviews in this batch: 32\n",
            "INFO:root:Batch 137: Input IDs shape: torch.Size([32, 254]), Attention Mask shape: torch.Size([32, 254])\n",
            "INFO:root:Processing batch 138/154, Number of reviews in this batch: 32\n",
            "INFO:root:Batch 138: Input IDs shape: torch.Size([32, 294]), Attention Mask shape: torch.Size([32, 294])\n",
            "INFO:root:Processing batch 139/154, Number of reviews in this batch: 32\n",
            "INFO:root:Batch 139: Input IDs shape: torch.Size([32, 512]), Attention Mask shape: torch.Size([32, 512])\n",
            "INFO:root:Processing batch 140/154, Number of reviews in this batch: 32\n",
            "INFO:root:Batch 140: Input IDs shape: torch.Size([32, 223]), Attention Mask shape: torch.Size([32, 223])\n",
            "INFO:root:Processing batch 141/154, Number of reviews in this batch: 32\n",
            "INFO:root:Batch 141: Input IDs shape: torch.Size([32, 412]), Attention Mask shape: torch.Size([32, 412])\n",
            "INFO:root:Processing batch 142/154, Number of reviews in this batch: 32\n",
            "INFO:root:Batch 142: Input IDs shape: torch.Size([32, 222]), Attention Mask shape: torch.Size([32, 222])\n",
            "INFO:root:Processing batch 143/154, Number of reviews in this batch: 32\n",
            "INFO:root:Batch 143: Input IDs shape: torch.Size([32, 138]), Attention Mask shape: torch.Size([32, 138])\n",
            "INFO:root:Processing batch 144/154, Number of reviews in this batch: 32\n",
            "INFO:root:Batch 144: Input IDs shape: torch.Size([32, 512]), Attention Mask shape: torch.Size([32, 512])\n",
            "INFO:root:Processing batch 145/154, Number of reviews in this batch: 32\n",
            "INFO:root:Batch 145: Input IDs shape: torch.Size([32, 299]), Attention Mask shape: torch.Size([32, 299])\n",
            "INFO:root:Processing batch 146/154, Number of reviews in this batch: 32\n",
            "INFO:root:Batch 146: Input IDs shape: torch.Size([32, 494]), Attention Mask shape: torch.Size([32, 494])\n",
            "INFO:root:Processing batch 147/154, Number of reviews in this batch: 32\n",
            "INFO:root:Batch 147: Input IDs shape: torch.Size([32, 133]), Attention Mask shape: torch.Size([32, 133])\n",
            "INFO:root:Processing batch 148/154, Number of reviews in this batch: 32\n",
            "INFO:root:Batch 148: Input IDs shape: torch.Size([32, 170]), Attention Mask shape: torch.Size([32, 170])\n",
            "INFO:root:Processing batch 149/154, Number of reviews in this batch: 32\n",
            "INFO:root:Batch 149: Input IDs shape: torch.Size([32, 463]), Attention Mask shape: torch.Size([32, 463])\n",
            "INFO:root:Processing batch 150/154, Number of reviews in this batch: 32\n",
            "INFO:root:Batch 150: Input IDs shape: torch.Size([32, 169]), Attention Mask shape: torch.Size([32, 169])\n",
            "INFO:root:Processing batch 151/154, Number of reviews in this batch: 32\n",
            "INFO:root:Batch 151: Input IDs shape: torch.Size([32, 182]), Attention Mask shape: torch.Size([32, 182])\n",
            "INFO:root:Processing batch 152/154, Number of reviews in this batch: 32\n",
            "INFO:root:Batch 152: Input IDs shape: torch.Size([32, 252]), Attention Mask shape: torch.Size([32, 252])\n",
            "INFO:root:Processing batch 153/154, Number of reviews in this batch: 32\n",
            "INFO:root:Batch 153: Input IDs shape: torch.Size([32, 391]), Attention Mask shape: torch.Size([32, 391])\n",
            "INFO:root:Processing batch 154/154, Number of reviews in this batch: 16\n",
            "INFO:root:Batch 154: Input IDs shape: torch.Size([16, 339]), Attention Mask shape: torch.Size([16, 339])\n",
            "INFO:root:All batches processed successfully.\n"
          ]
        }
      ]
    },
    {
      "cell_type": "code",
      "source": [
        "# Display the first 10 predictions\n",
        "all_predictions[:10]"
      ],
      "metadata": {
        "colab": {
          "base_uri": "https://localhost:8080/"
        },
        "id": "tm1L6HytIH_4",
        "outputId": "217e5a68-bfc6-4de5-cf9c-cbc032e23d80"
      },
      "execution_count": null,
      "outputs": [
        {
          "output_type": "execute_result",
          "data": {
            "text/plain": [
              "[1, 1, 0, 1, 1, 1, 1, 1, 0, 1]"
            ]
          },
          "metadata": {},
          "execution_count": 42
        }
      ]
    },
    {
      "cell_type": "code",
      "source": [
        "# Return number of reviews in the original dataset\n",
        "len(df)"
      ],
      "metadata": {
        "colab": {
          "base_uri": "https://localhost:8080/"
        },
        "id": "DpepFIJuZl9J",
        "outputId": "f8b93f70-6d9a-4c13-9367-311ca50de22e"
      },
      "execution_count": null,
      "outputs": [
        {
          "output_type": "execute_result",
          "data": {
            "text/plain": [
              "4912"
            ]
          },
          "metadata": {},
          "execution_count": 43
        }
      ]
    },
    {
      "cell_type": "code",
      "source": [
        "# Return the number of predictions\n",
        "len(all_predictions)"
      ],
      "metadata": {
        "colab": {
          "base_uri": "https://localhost:8080/"
        },
        "id": "lcP6Hl0wsdqI",
        "outputId": "926be1d0-17e9-4daa-919f-84cfdc7f02f3"
      },
      "execution_count": null,
      "outputs": [
        {
          "output_type": "execute_result",
          "data": {
            "text/plain": [
              "4912"
            ]
          },
          "metadata": {},
          "execution_count": 44
        }
      ]
    },
    {
      "cell_type": "markdown",
      "source": [
        "### 6. Map Predictions to Labels\n",
        "* Map 1 to 'Positive'.\n",
        "* Map 0 to 'Negative'.\n",
        "* Add the predicted values as a new column to the dataframe."
      ],
      "metadata": {
        "id": "55wfTcQEsnYd"
      }
    },
    {
      "cell_type": "code",
      "source": [
        "# Define the mapping as a dictionary\n",
        "label_mapping = {0: 'Negative', 1: 'Positive'}"
      ],
      "metadata": {
        "id": "v69ZsGqqn-iI"
      },
      "execution_count": null,
      "outputs": []
    },
    {
      "cell_type": "code",
      "source": [
        "# Map each prediction in the model output to a label - returns a list of labels\n",
        "predicted_labels = [label_mapping[prediction] for prediction in all_predictions]"
      ],
      "metadata": {
        "id": "_K__ctsu-Uco"
      },
      "execution_count": null,
      "outputs": []
    },
    {
      "cell_type": "code",
      "source": [
        "# Display the fist 10 labels\n",
        "predicted_labels[:10]"
      ],
      "metadata": {
        "colab": {
          "base_uri": "https://localhost:8080/"
        },
        "id": "J6juNDvLbg8K",
        "outputId": "d1b1d7eb-0c83-4dfb-d47f-7f42ad17d45f"
      },
      "execution_count": null,
      "outputs": [
        {
          "output_type": "execute_result",
          "data": {
            "text/plain": [
              "['Positive',\n",
              " 'Positive',\n",
              " 'Negative',\n",
              " 'Positive',\n",
              " 'Positive',\n",
              " 'Positive',\n",
              " 'Positive',\n",
              " 'Positive',\n",
              " 'Negative',\n",
              " 'Positive']"
            ]
          },
          "metadata": {},
          "execution_count": 47
        }
      ]
    },
    {
      "cell_type": "code",
      "source": [
        "# Set option to display the full text in DataFrame columns\n",
        "pd.set_option('display.max_colwidth', 50)"
      ],
      "metadata": {
        "id": "8LeagCWYcJ_X"
      },
      "execution_count": null,
      "outputs": []
    },
    {
      "cell_type": "code",
      "source": [
        "# Add the predicted labels to the input dataframe\n",
        "df['Predicted_Sentiment'] = predicted_labels\n",
        "df.head()"
      ],
      "metadata": {
        "id": "AzssjzRNQnsq",
        "colab": {
          "base_uri": "https://localhost:8080/",
          "height": 206
        },
        "outputId": "2e17f09e-c56e-42b2-e22a-deacb85ff0b5"
      },
      "execution_count": null,
      "outputs": [
        {
          "output_type": "execute_result",
          "data": {
            "text/plain": [
              "                                          reviewText  overall  \\\n",
              "0                                         No issues.      4.0   \n",
              "1  Purchased this for my device, it worked as adv...      5.0   \n",
              "2  it works as expected. I should have sprung for...      4.0   \n",
              "3  This think has worked out great.Had a diff. br...      5.0   \n",
              "4  Bought it with Retail Packaging, arrived legit...      5.0   \n",
              "\n",
              "  Predicted_Sentiment  \n",
              "0            Positive  \n",
              "1            Positive  \n",
              "2            Negative  \n",
              "3            Positive  \n",
              "4            Positive  "
            ],
            "text/html": [
              "\n",
              "  <div id=\"df-d7744ce1-4018-4b82-af86-79696e27b271\" class=\"colab-df-container\">\n",
              "    <div>\n",
              "<style scoped>\n",
              "    .dataframe tbody tr th:only-of-type {\n",
              "        vertical-align: middle;\n",
              "    }\n",
              "\n",
              "    .dataframe tbody tr th {\n",
              "        vertical-align: top;\n",
              "    }\n",
              "\n",
              "    .dataframe thead th {\n",
              "        text-align: right;\n",
              "    }\n",
              "</style>\n",
              "<table border=\"1\" class=\"dataframe\">\n",
              "  <thead>\n",
              "    <tr style=\"text-align: right;\">\n",
              "      <th></th>\n",
              "      <th>reviewText</th>\n",
              "      <th>overall</th>\n",
              "      <th>Predicted_Sentiment</th>\n",
              "    </tr>\n",
              "  </thead>\n",
              "  <tbody>\n",
              "    <tr>\n",
              "      <th>0</th>\n",
              "      <td>No issues.</td>\n",
              "      <td>4.0</td>\n",
              "      <td>Positive</td>\n",
              "    </tr>\n",
              "    <tr>\n",
              "      <th>1</th>\n",
              "      <td>Purchased this for my device, it worked as adv...</td>\n",
              "      <td>5.0</td>\n",
              "      <td>Positive</td>\n",
              "    </tr>\n",
              "    <tr>\n",
              "      <th>2</th>\n",
              "      <td>it works as expected. I should have sprung for...</td>\n",
              "      <td>4.0</td>\n",
              "      <td>Negative</td>\n",
              "    </tr>\n",
              "    <tr>\n",
              "      <th>3</th>\n",
              "      <td>This think has worked out great.Had a diff. br...</td>\n",
              "      <td>5.0</td>\n",
              "      <td>Positive</td>\n",
              "    </tr>\n",
              "    <tr>\n",
              "      <th>4</th>\n",
              "      <td>Bought it with Retail Packaging, arrived legit...</td>\n",
              "      <td>5.0</td>\n",
              "      <td>Positive</td>\n",
              "    </tr>\n",
              "  </tbody>\n",
              "</table>\n",
              "</div>\n",
              "    <div class=\"colab-df-buttons\">\n",
              "\n",
              "  <div class=\"colab-df-container\">\n",
              "    <button class=\"colab-df-convert\" onclick=\"convertToInteractive('df-d7744ce1-4018-4b82-af86-79696e27b271')\"\n",
              "            title=\"Convert this dataframe to an interactive table.\"\n",
              "            style=\"display:none;\">\n",
              "\n",
              "  <svg xmlns=\"http://www.w3.org/2000/svg\" height=\"24px\" viewBox=\"0 -960 960 960\">\n",
              "    <path d=\"M120-120v-720h720v720H120Zm60-500h600v-160H180v160Zm220 220h160v-160H400v160Zm0 220h160v-160H400v160ZM180-400h160v-160H180v160Zm440 0h160v-160H620v160ZM180-180h160v-160H180v160Zm440 0h160v-160H620v160Z\"/>\n",
              "  </svg>\n",
              "    </button>\n",
              "\n",
              "  <style>\n",
              "    .colab-df-container {\n",
              "      display:flex;\n",
              "      gap: 12px;\n",
              "    }\n",
              "\n",
              "    .colab-df-convert {\n",
              "      background-color: #E8F0FE;\n",
              "      border: none;\n",
              "      border-radius: 50%;\n",
              "      cursor: pointer;\n",
              "      display: none;\n",
              "      fill: #1967D2;\n",
              "      height: 32px;\n",
              "      padding: 0 0 0 0;\n",
              "      width: 32px;\n",
              "    }\n",
              "\n",
              "    .colab-df-convert:hover {\n",
              "      background-color: #E2EBFA;\n",
              "      box-shadow: 0px 1px 2px rgba(60, 64, 67, 0.3), 0px 1px 3px 1px rgba(60, 64, 67, 0.15);\n",
              "      fill: #174EA6;\n",
              "    }\n",
              "\n",
              "    .colab-df-buttons div {\n",
              "      margin-bottom: 4px;\n",
              "    }\n",
              "\n",
              "    [theme=dark] .colab-df-convert {\n",
              "      background-color: #3B4455;\n",
              "      fill: #D2E3FC;\n",
              "    }\n",
              "\n",
              "    [theme=dark] .colab-df-convert:hover {\n",
              "      background-color: #434B5C;\n",
              "      box-shadow: 0px 1px 3px 1px rgba(0, 0, 0, 0.15);\n",
              "      filter: drop-shadow(0px 1px 2px rgba(0, 0, 0, 0.3));\n",
              "      fill: #FFFFFF;\n",
              "    }\n",
              "  </style>\n",
              "\n",
              "    <script>\n",
              "      const buttonEl =\n",
              "        document.querySelector('#df-d7744ce1-4018-4b82-af86-79696e27b271 button.colab-df-convert');\n",
              "      buttonEl.style.display =\n",
              "        google.colab.kernel.accessAllowed ? 'block' : 'none';\n",
              "\n",
              "      async function convertToInteractive(key) {\n",
              "        const element = document.querySelector('#df-d7744ce1-4018-4b82-af86-79696e27b271');\n",
              "        const dataTable =\n",
              "          await google.colab.kernel.invokeFunction('convertToInteractive',\n",
              "                                                    [key], {});\n",
              "        if (!dataTable) return;\n",
              "\n",
              "        const docLinkHtml = 'Like what you see? Visit the ' +\n",
              "          '<a target=\"_blank\" href=https://colab.research.google.com/notebooks/data_table.ipynb>data table notebook</a>'\n",
              "          + ' to learn more about interactive tables.';\n",
              "        element.innerHTML = '';\n",
              "        dataTable['output_type'] = 'display_data';\n",
              "        await google.colab.output.renderOutput(dataTable, element);\n",
              "        const docLink = document.createElement('div');\n",
              "        docLink.innerHTML = docLinkHtml;\n",
              "        element.appendChild(docLink);\n",
              "      }\n",
              "    </script>\n",
              "  </div>\n",
              "\n",
              "\n",
              "<div id=\"df-711218f2-c816-4f63-ad75-95165bcf84d4\">\n",
              "  <button class=\"colab-df-quickchart\" onclick=\"quickchart('df-711218f2-c816-4f63-ad75-95165bcf84d4')\"\n",
              "            title=\"Suggest charts\"\n",
              "            style=\"display:none;\">\n",
              "\n",
              "<svg xmlns=\"http://www.w3.org/2000/svg\" height=\"24px\"viewBox=\"0 0 24 24\"\n",
              "     width=\"24px\">\n",
              "    <g>\n",
              "        <path d=\"M19 3H5c-1.1 0-2 .9-2 2v14c0 1.1.9 2 2 2h14c1.1 0 2-.9 2-2V5c0-1.1-.9-2-2-2zM9 17H7v-7h2v7zm4 0h-2V7h2v10zm4 0h-2v-4h2v4z\"/>\n",
              "    </g>\n",
              "</svg>\n",
              "  </button>\n",
              "\n",
              "<style>\n",
              "  .colab-df-quickchart {\n",
              "      --bg-color: #E8F0FE;\n",
              "      --fill-color: #1967D2;\n",
              "      --hover-bg-color: #E2EBFA;\n",
              "      --hover-fill-color: #174EA6;\n",
              "      --disabled-fill-color: #AAA;\n",
              "      --disabled-bg-color: #DDD;\n",
              "  }\n",
              "\n",
              "  [theme=dark] .colab-df-quickchart {\n",
              "      --bg-color: #3B4455;\n",
              "      --fill-color: #D2E3FC;\n",
              "      --hover-bg-color: #434B5C;\n",
              "      --hover-fill-color: #FFFFFF;\n",
              "      --disabled-bg-color: #3B4455;\n",
              "      --disabled-fill-color: #666;\n",
              "  }\n",
              "\n",
              "  .colab-df-quickchart {\n",
              "    background-color: var(--bg-color);\n",
              "    border: none;\n",
              "    border-radius: 50%;\n",
              "    cursor: pointer;\n",
              "    display: none;\n",
              "    fill: var(--fill-color);\n",
              "    height: 32px;\n",
              "    padding: 0;\n",
              "    width: 32px;\n",
              "  }\n",
              "\n",
              "  .colab-df-quickchart:hover {\n",
              "    background-color: var(--hover-bg-color);\n",
              "    box-shadow: 0 1px 2px rgba(60, 64, 67, 0.3), 0 1px 3px 1px rgba(60, 64, 67, 0.15);\n",
              "    fill: var(--button-hover-fill-color);\n",
              "  }\n",
              "\n",
              "  .colab-df-quickchart-complete:disabled,\n",
              "  .colab-df-quickchart-complete:disabled:hover {\n",
              "    background-color: var(--disabled-bg-color);\n",
              "    fill: var(--disabled-fill-color);\n",
              "    box-shadow: none;\n",
              "  }\n",
              "\n",
              "  .colab-df-spinner {\n",
              "    border: 2px solid var(--fill-color);\n",
              "    border-color: transparent;\n",
              "    border-bottom-color: var(--fill-color);\n",
              "    animation:\n",
              "      spin 1s steps(1) infinite;\n",
              "  }\n",
              "\n",
              "  @keyframes spin {\n",
              "    0% {\n",
              "      border-color: transparent;\n",
              "      border-bottom-color: var(--fill-color);\n",
              "      border-left-color: var(--fill-color);\n",
              "    }\n",
              "    20% {\n",
              "      border-color: transparent;\n",
              "      border-left-color: var(--fill-color);\n",
              "      border-top-color: var(--fill-color);\n",
              "    }\n",
              "    30% {\n",
              "      border-color: transparent;\n",
              "      border-left-color: var(--fill-color);\n",
              "      border-top-color: var(--fill-color);\n",
              "      border-right-color: var(--fill-color);\n",
              "    }\n",
              "    40% {\n",
              "      border-color: transparent;\n",
              "      border-right-color: var(--fill-color);\n",
              "      border-top-color: var(--fill-color);\n",
              "    }\n",
              "    60% {\n",
              "      border-color: transparent;\n",
              "      border-right-color: var(--fill-color);\n",
              "    }\n",
              "    80% {\n",
              "      border-color: transparent;\n",
              "      border-right-color: var(--fill-color);\n",
              "      border-bottom-color: var(--fill-color);\n",
              "    }\n",
              "    90% {\n",
              "      border-color: transparent;\n",
              "      border-bottom-color: var(--fill-color);\n",
              "    }\n",
              "  }\n",
              "</style>\n",
              "\n",
              "  <script>\n",
              "    async function quickchart(key) {\n",
              "      const quickchartButtonEl =\n",
              "        document.querySelector('#' + key + ' button');\n",
              "      quickchartButtonEl.disabled = true;  // To prevent multiple clicks.\n",
              "      quickchartButtonEl.classList.add('colab-df-spinner');\n",
              "      try {\n",
              "        const charts = await google.colab.kernel.invokeFunction(\n",
              "            'suggestCharts', [key], {});\n",
              "      } catch (error) {\n",
              "        console.error('Error during call to suggestCharts:', error);\n",
              "      }\n",
              "      quickchartButtonEl.classList.remove('colab-df-spinner');\n",
              "      quickchartButtonEl.classList.add('colab-df-quickchart-complete');\n",
              "    }\n",
              "    (() => {\n",
              "      let quickchartButtonEl =\n",
              "        document.querySelector('#df-711218f2-c816-4f63-ad75-95165bcf84d4 button');\n",
              "      quickchartButtonEl.style.display =\n",
              "        google.colab.kernel.accessAllowed ? 'block' : 'none';\n",
              "    })();\n",
              "  </script>\n",
              "</div>\n",
              "\n",
              "    </div>\n",
              "  </div>\n"
            ],
            "application/vnd.google.colaboratory.intrinsic+json": {
              "type": "dataframe",
              "variable_name": "df",
              "summary": "{\n  \"name\": \"df\",\n  \"rows\": 4912,\n  \"fields\": [\n    {\n      \"column\": \"reviewText\",\n      \"properties\": {\n        \"dtype\": \"string\",\n        \"num_unique_values\": 4912,\n        \"samples\": [\n          \"Bought this for extended memory in a Galaxy S III.  Great price. Easy to install and the phone recognized it instantly. Does what its supposed to do.\",\n          \"I bought this after I found out that you can add a memory card to the Samsung galaxy s4! I never even knew that you could, and so once I found out I bought this and installed it. It's worked perfectly since and holds all of my songs and videos.  Great buy!\",\n          \"Using it on a Canon 6D. No camplains at all. Really fast access. The adapter itself is not at same level, even though. Bad connection, had to use a previous adapter that I already had.\"\n        ],\n        \"semantic_type\": \"\",\n        \"description\": \"\"\n      }\n    },\n    {\n      \"column\": \"overall\",\n      \"properties\": {\n        \"dtype\": \"number\",\n        \"std\": 0.9970795771306836,\n        \"min\": 1.0,\n        \"max\": 5.0,\n        \"num_unique_values\": 5,\n        \"samples\": [\n          5.0,\n          2.0,\n          3.0\n        ],\n        \"semantic_type\": \"\",\n        \"description\": \"\"\n      }\n    },\n    {\n      \"column\": \"Predicted_Sentiment\",\n      \"properties\": {\n        \"dtype\": \"category\",\n        \"num_unique_values\": 2,\n        \"samples\": [\n          \"Negative\",\n          \"Positive\"\n        ],\n        \"semantic_type\": \"\",\n        \"description\": \"\"\n      }\n    }\n  ]\n}"
            }
          },
          "metadata": {},
          "execution_count": 49
        }
      ]
    },
    {
      "cell_type": "code",
      "source": [
        "# Store dataset with labels\n",
        "df.to_csv('amazon_reviews_with_sentiment_labels.csv', index=False)"
      ],
      "metadata": {
        "id": "jWNjwjfsdgAk"
      },
      "execution_count": null,
      "outputs": []
    },
    {
      "cell_type": "markdown",
      "source": [
        "### 7. Answer the Question with Prediction Results\n",
        "* **Question**: 'Can you tell me whether most of my reviews are positive or negative?'\n",
        "* Find the answer to this question by calculating the percentage of positive and negative results. The higher percentage will be the answer."
      ],
      "metadata": {
        "id": "FtsRl1XbhTJN"
      }
    },
    {
      "cell_type": "code",
      "source": [
        "# Count total reviews\n",
        "total_reviews = len(df)\n",
        "\n",
        "# Count positive reviews\n",
        "positive_reviews = df['Predicted_Sentiment'].value_counts().get('Positive', 0)\n",
        "\n",
        "# Count negative reviews\n",
        "negative_reviews = df['Predicted_Sentiment'].value_counts().get('Negative', 0)"
      ],
      "metadata": {
        "id": "BkgxjjWogZcO"
      },
      "execution_count": null,
      "outputs": []
    },
    {
      "cell_type": "code",
      "source": [
        "# Calculate the percentage of positive reviews\n",
        "positive_percentage = int(((positive_reviews / total_reviews) * 100))\n",
        "print(f\"{positive_percentage}% of reviews are positive.\")"
      ],
      "metadata": {
        "id": "VlX56VYWQnky",
        "colab": {
          "base_uri": "https://localhost:8080/"
        },
        "outputId": "1b344266-78d7-42c3-c1de-31d408d95eaa"
      },
      "execution_count": null,
      "outputs": [
        {
          "output_type": "stream",
          "name": "stdout",
          "text": [
            "68% of reviews are positive.\n"
          ]
        }
      ]
    },
    {
      "cell_type": "code",
      "source": [
        "# Calculate the percentage of negative reviews\n",
        "negative_percentage = 100 - positive_percentage\n",
        "print(f\"{negative_percentage}% of reviews are negative.\")"
      ],
      "metadata": {
        "colab": {
          "base_uri": "https://localhost:8080/"
        },
        "id": "x2Gjn0x1ipx0",
        "outputId": "66dc4df7-a248-45f8-9b1e-c50124dd897f"
      },
      "execution_count": null,
      "outputs": [
        {
          "output_type": "stream",
          "name": "stdout",
          "text": [
            "32% of reviews are negative.\n"
          ]
        }
      ]
    },
    {
      "cell_type": "markdown",
      "source": [
        "**Answer**:\n",
        "\n",
        "My sentiment analysis of your reviews shows, that they are mostly positive. 68% of your reviews are positive and 32% are negative. Further plotting the distribution of your ratings confirms that most of your reviews were 4 to 5 start ratings.\n",
        "\n",
        "The visualizations below show my results of analyzing your star ratings and text-reviews:"
      ],
      "metadata": {
        "id": "WLO0GzPwji_b"
      }
    },
    {
      "cell_type": "markdown",
      "source": [
        "**Distribution of Star Ratings**\n",
        "* Almost 80% of star-ratings are 5 star ratings.\n",
        "* 11% are 4-star ratings, making them the second most common.\n",
        "* The next most common are 1-star ratings and there are almost no 2-star and 3-star ratings in the dataset.\n",
        "* Overall 5-star ratings are by far the most common."
      ],
      "metadata": {
        "id": "dTvGWLa4kuRk"
      }
    },
    {
      "cell_type": "code",
      "source": [
        "# Display the total count of ratings\n",
        "len(df)"
      ],
      "metadata": {
        "colab": {
          "base_uri": "https://localhost:8080/"
        },
        "id": "Xj5EUciCk4Rw",
        "outputId": "1e5eb545-6bea-486e-b8e4-36ce8f426976"
      },
      "execution_count": null,
      "outputs": [
        {
          "output_type": "execute_result",
          "data": {
            "text/plain": [
              "4912"
            ]
          },
          "metadata": {},
          "execution_count": 54
        }
      ]
    },
    {
      "cell_type": "code",
      "source": [
        "# Show unique ratings\n",
        "df['overall'].unique()"
      ],
      "metadata": {
        "colab": {
          "base_uri": "https://localhost:8080/"
        },
        "id": "zOVIj3lIndMz",
        "outputId": "23f97092-1f30-4ec4-8713-1af8259b689d"
      },
      "execution_count": null,
      "outputs": [
        {
          "output_type": "execute_result",
          "data": {
            "text/plain": [
              "array([4., 5., 3., 1., 2.])"
            ]
          },
          "metadata": {},
          "execution_count": 55
        }
      ]
    },
    {
      "cell_type": "code",
      "source": [
        "# Set the style of seaborn plots\n",
        "sns.set(style=\"whitegrid\")\n",
        "\n",
        "# Create a figure with specified size\n",
        "plt.figure(figsize=(8, 4))\n",
        "\n",
        "# Define custom bin edges to align with integer ratings (1 to 5)\n",
        "bins = [0.5, 1.5, 2.5, 3.5, 4.5, 5.5]\n",
        "\n",
        "# Plot the distribution of 'overall' ratings with percentages on the y-axis\n",
        "ax = sns.histplot(\n",
        "    df['overall'],          # The data to plot (assuming integer ratings from 1 to 5)\n",
        "    bins=bins,              # Custom bin edges for integer alignment\n",
        "    stat='percent',         # Normalize y-axis to show percentages\n",
        "    color='skyblue',        # Set bar color\n",
        "    edgecolor='purple'       # Add black edges to bars for clarity\n",
        ")\n",
        "\n",
        "# Set x-axis ticks as whole numbers from 1 to 5\n",
        "plt.xticks([1, 2, 3, 4, 5])\n",
        "\n",
        "# Set x-axis limits to start at 0.5 and end at 5.5 to fully display all bins\n",
        "plt.xlim(0.5, 5.5)\n",
        "\n",
        "# Set y-axis limits from 0% to 100%\n",
        "plt.ylim(0, 100)\n",
        "\n",
        "# Set labels and title\n",
        "plt.xlabel('Overall Star Rating')\n",
        "plt.ylabel('Percentage')\n",
        "plt.title('Distribution of Overall Ratings')\n",
        "\n",
        "# Format y-axis to include percentage signs\n",
        "ax.yaxis.set_major_formatter(FuncFormatter(lambda y, _: f'{y:.0f}%'))\n",
        "\n",
        "# Add percentage labels on top of each bar\n",
        "for p in ax.patches:\n",
        "    height = p.get_height()\n",
        "    if height > 0:\n",
        "        ax.annotate(f'{height:.1f}%',\n",
        "                    (p.get_x() + p.get_width() / 2., height),\n",
        "                    ha='center', va='bottom',\n",
        "                    fontsize=9, color='purple', xytext=(0, 5),\n",
        "                    textcoords='offset points')\n",
        "\n",
        "# Export the plot in high definition\n",
        "plt.savefig('star_rating_distribution.png', dpi=300, bbox_inches='tight')\n",
        "# Display the plot\n",
        "plt.show()"
      ],
      "metadata": {
        "colab": {
          "base_uri": "https://localhost:8080/",
          "height": 419
        },
        "id": "lhxMnUU7knTK",
        "outputId": "718f57f2-5eaf-482f-cd79-b8cc09ce5d38"
      },
      "execution_count": null,
      "outputs": [
        {
          "output_type": "display_data",
          "data": {
            "text/plain": [
              "<Figure size 800x400 with 1 Axes>"
            ],
            "image/png": "[encoded data removed]"
          },
          "metadata": {}
        }
      ]
    },
    {
      "cell_type": "markdown",
      "source": [
        "**Distribution of Sentiment Labels**\n",
        "* More than 68% of the reviews reflect a positive sentiment, while 32% are classified as negative.\n",
        "* This indicates that the majority of reviews were clearly positive, though 32% included some negative aspects, even within generally positive reviews.\n",
        "* Given that a binary classification model was used, subtle nuances in sentiment may not have been fully captured."
      ],
      "metadata": {
        "id": "2JuARkgxrPWv"
      }
    },
    {
      "cell_type": "code",
      "source": [
        "# Create a pie chart to show distribution of Negative and Positive Reviews\n",
        "sentiment_counts = df['Predicted_Sentiment'].value_counts()\n",
        "plt.figure(figsize=(6,6))\n",
        "sentiment_counts.plot(kind='pie', autopct='%1.1f%%', colors=['pink', 'lightblue'])\n",
        "plt.title('Sentiment Distribution of Reviews')\n",
        "plt.ylabel('')  # Hide the y-label\n",
        "\n",
        "# Export the chart in high definition\n",
        "plt.savefig('sentiment_distribution.png', dpi=300, bbox_inches='tight')\n",
        "\n",
        "# Show the chart\n",
        "plt.show()"
      ],
      "metadata": {
        "colab": {
          "base_uri": "https://localhost:8080/",
          "height": 521
        },
        "id": "Nw6il1ytkrrA",
        "outputId": "0ac86af2-d514-41a6-d48d-ab33a7dd0ca0"
      },
      "execution_count": null,
      "outputs": [
        {
          "output_type": "display_data",
          "data": {
            "text/plain": [
              "<Figure size 600x600 with 1 Axes>"
            ],
            "image/png": "[encoded data removed]"
          },
          "metadata": {}
        }
      ]
    }
  ]
}